{
 "cells": [
  {
   "cell_type": "code",
   "execution_count": 1,
   "id": "722b45d6",
   "metadata": {},
   "outputs": [],
   "source": [
    "# Chapter 15. K-Nearest Neighbors"
   ]
  },
  {
   "cell_type": "code",
   "execution_count": 8,
   "id": "276023b8",
   "metadata": {},
   "outputs": [
    {
     "name": "stdout",
     "output_type": "stream",
     "text": [
      "[[[1.03800476 0.55861082 1.10378283 1.18556721]\n",
      "  [0.79566902 0.32841405 0.76275827 1.05393502]]]\n",
      "------------------------------\n",
      "[[0.49140089 0.74294782]]\n"
     ]
    }
   ],
   "source": [
    "# 15.1 Finding an Observation’s Nearest Neighbors\n",
    "from sklearn import datasets\n",
    "from sklearn.neighbors import NearestNeighbors\n",
    "from sklearn.preprocessing import StandardScaler\n",
    "\n",
    "iris = datasets.load_iris()\n",
    "features, target = iris.data, iris.target\n",
    "\n",
    "# Create standardizer\n",
    "standardizer = StandardScaler()\n",
    "\n",
    "# Standardize features\n",
    "features_standardized = standardizer.fit_transform(features)\n",
    "\n",
    "# Two nearest neighbors\n",
    "nearest_neighbors = NearestNeighbors(n_neighbors=2).fit(features_standardized)\n",
    "\n",
    "# create an observation\n",
    "new_observation = [1, 1, 1, 1]\n",
    "\n",
    "# Find distances and indices of the observation's nearest neighbors\n",
    "distances, indices = nearest_neighbors.kneighbors([new_observation])\n",
    "\n",
    "# view the nearest neighbors\n",
    "print(features_standardized[indices])\n",
    "print(\"------------------------------\")\n",
    "print(distances)"
   ]
  },
  {
   "cell_type": "code",
   "execution_count": 11,
   "id": "15da22db",
   "metadata": {},
   "outputs": [
    {
     "data": {
      "text/plain": [
       "array([[0.49140089, 0.74294782]])"
      ]
     },
     "execution_count": 11,
     "metadata": {},
     "output_type": "execute_result"
    }
   ],
   "source": [
    "# Find two nearest neighbors based on Euclidean distance\n",
    "\n",
    "nearestneighbors_eucliean = NearestNeighbors(n_neighbors=2, metric='euclidean').fit(features_standardized)\n",
    "\n",
    "distances, indices = nearestneighbors_eucliean.kneighbors([new_observation])\n",
    "\n",
    "distances"
   ]
  },
  {
   "cell_type": "code",
   "execution_count": 15,
   "id": "027818e1",
   "metadata": {},
   "outputs": [
    {
     "data": {
      "text/plain": [
       "array([0., 0., 0., 0., 0., 0., 0., 0., 0., 0., 0., 0., 0., 0., 0., 0., 0.,\n",
       "       1., 0., 0., 0., 0., 0., 0., 0., 0., 0., 1., 0., 0., 0., 0., 0., 0.,\n",
       "       0., 0., 0., 0., 0., 0., 0., 0., 0., 0., 0., 0., 0., 0., 0., 0., 0.,\n",
       "       0., 0., 0., 0., 0., 0., 0., 0., 0., 0., 0., 0., 0., 0., 0., 0., 0.,\n",
       "       0., 0., 0., 0., 0., 0., 0., 0., 0., 0., 0., 0., 0., 0., 0., 0., 0.,\n",
       "       0., 0., 0., 0., 0., 0., 0., 0., 0., 0., 0., 0., 0., 0., 0., 0., 0.,\n",
       "       0., 0., 0., 0., 0., 0., 0., 0., 0., 0., 0., 0., 0., 0., 0., 0., 0.,\n",
       "       0., 0., 0., 0., 0., 0., 0., 0., 0., 0., 0., 0., 0., 0., 0., 0., 0.,\n",
       "       0., 0., 0., 0., 0., 0., 0., 0., 0., 0., 0., 0., 0., 0.])"
      ]
     },
     "execution_count": 15,
     "metadata": {},
     "output_type": "execute_result"
    }
   ],
   "source": [
    "# # Find each observation's three nearest neighbors based on\n",
    "# Euclidean distance (including itself)\n",
    "\n",
    "nearestneighbors_eucliean = NearestNeighbors(n_neighbors=3, metric=\"euclidean\").fit(features_standardized)\n",
    "\n",
    "# List of lists indicating each observation's three nearest neighbors\n",
    "# (including itself)\n",
    "\n",
    "nearest_neighbors_with_self = nearestneighbors_eucliean.kneighbors_graph(features_standardized).toarray()\n",
    "\n",
    "# Remove 1s marking an observation is a nearest neighbor to itself\n",
    "for i, x in enumerate(nearest_neighbors_with_self):\n",
    "    x[i] = 0\n",
    "    \n",
    "# View first observation's two nearest neighbors\n",
    "nearest_neighbors_with_self[0]"
   ]
  },
  {
   "cell_type": "code",
   "execution_count": 21,
   "id": "bc03ab2f",
   "metadata": {},
   "outputs": [
    {
     "data": {
      "text/plain": [
       "array([1, 2])"
      ]
     },
     "execution_count": 21,
     "metadata": {},
     "output_type": "execute_result"
    }
   ],
   "source": [
    "# 15.2 Creating a K-Nearest Neighbors Classifier\n",
    "\n",
    "from sklearn.neighbors import KNeighborsClassifier\n",
    "from sklearn.preprocessing import StandardScaler\n",
    "from sklearn import datasets\n",
    "\n",
    "iris = datasets.load_iris()\n",
    "X = iris.data \n",
    "y = iris.target\n",
    "\n",
    "standardizer = StandardScaler()\n",
    "\n",
    "X_std = standardizer.fit_transform(X)\n",
    "\n",
    "# Train a KNN classifier with 5 neighbors\n",
    "knn = KNeighborsClassifier(n_neighbors=5, n_jobs=-1).fit(X_std, y)\n",
    "\n",
    "new_observation = [[0.75, 0.75, 0.75, 0.75], [1, 1, 1, 1]]\n",
    "\n",
    "# Predict the class of two observations\n",
    "knn.predict(new_observation)"
   ]
  },
  {
   "cell_type": "code",
   "execution_count": 22,
   "id": "7e602c5a",
   "metadata": {},
   "outputs": [
    {
     "data": {
      "text/plain": [
       "array([[0. , 0.6, 0.4],\n",
       "       [0. , 0. , 1. ]])"
      ]
     },
     "execution_count": 22,
     "metadata": {},
     "output_type": "execute_result"
    }
   ],
   "source": [
    "# View probability that each observation is one of three classes\n",
    "knn.predict_proba(new_observation)"
   ]
  },
  {
   "cell_type": "code",
   "execution_count": 25,
   "id": "9a8a2756",
   "metadata": {},
   "outputs": [
    {
     "data": {
      "text/plain": [
       "6"
      ]
     },
     "execution_count": 25,
     "metadata": {},
     "output_type": "execute_result"
    }
   ],
   "source": [
    "# 15.3 Identifying the Best Neighborhood Size\n",
    "\n",
    "from sklearn.neighbors import KNeighborsClassifier\n",
    "from sklearn import datasets\n",
    "from sklearn.preprocessing import StandardScaler\n",
    "from sklearn.pipeline import Pipeline, FeatureUnion\n",
    "from sklearn.model_selection import GridSearchCV\n",
    "\n",
    "iris = datasets.load_iris()\n",
    "features, target = iris.data, iris.target\n",
    "\n",
    "standardizer = StandardScaler()\n",
    "\n",
    "# create knn classifier\n",
    "knn = KNeighborsClassifier(n_neighbors=5, n_jobs=-1)\n",
    "\n",
    "# create a pipeline\n",
    "pipe = Pipeline([(\"standardizer\", standardizer), (\"knn\", knn)])\n",
    "\n",
    "# Create space of candidate values\n",
    "search_space = [{\"knn__n_neighbors\": [1, 2, 3, 4, 5, 6 , 7, 8, 9, 10]}]\n",
    "\n",
    "# create grid search\n",
    "classifier = GridSearchCV(pipe, search_space, cv=5, verbose=0).fit(features_standardized, target)\n",
    "\n",
    "# Best neighborhood size (k)\n",
    "classifier.best_estimator_.get_params()[\"knn__n_neighbors\"]"
   ]
  },
  {
   "cell_type": "code",
   "execution_count": null,
   "id": "ae275d13",
   "metadata": {},
   "outputs": [
    {
     "data": {
      "text/plain": [
       "array([2])"
      ]
     },
     "execution_count": 26,
     "metadata": {},
     "output_type": "execute_result"
    }
   ],
   "source": [
    "# 15.4 Creating a Radius-Based Nearest Neighbors Classifier\n",
    "\n",
    "from sklearn.neighbors import RadiusNeighborsClassifier\n",
    "from sklearn.preprocessing import StandardScaler\n",
    "from sklearn import datasets\n",
    "\n",
    "iris = datasets.load_iris()\n",
    "features, target = iris.data, iris.target\n",
    "\n",
    "standardizer = StandardScaler()\n",
    "\n",
    "features_standardized = standardizer.fit_transform(features)\n",
    "\n",
    "# Train a radius neighbors classifier\n",
    "rnn = RadiusNeighborsClassifier(radius=.5, n_jobs=-1).fit(features_standardized,target)\n",
    "\n",
    "# create an observation\n",
    "new_observation= [[1, 1, 1, 1]]\n",
    "\n",
    "# Predict the class of  observation\n",
    "rnn.predict(new_observation)"
   ]
  },
  {
   "cell_type": "code",
   "execution_count": 27,
   "id": "617c37cd",
   "metadata": {},
   "outputs": [
    {
     "data": {
      "text/plain": [
       "array([[0., 0., 1.]])"
      ]
     },
     "execution_count": 27,
     "metadata": {},
     "output_type": "execute_result"
    }
   ],
   "source": [
    "rnn.predict_proba(new_observation)"
   ]
  },
  {
   "cell_type": "code",
   "execution_count": 33,
   "id": "12b7c5aa",
   "metadata": {},
   "outputs": [
    {
     "data": {
      "text/plain": [
       "array([[1.03800476, 0.55861082, 1.10378283, 1.18556721],\n",
       "       [0.79566902, 0.32841405, 0.76275827, 1.05393502]])"
      ]
     },
     "execution_count": 33,
     "metadata": {},
     "output_type": "execute_result"
    }
   ],
   "source": [
    "# 15.5 Finding Approximate Nearest Neighbors\n",
    "import faiss\n",
    "import numpy as np\n",
    "from sklearn import datasets\n",
    "from sklearn.preprocessing import StandardScaler\n",
    "from sklearn.neighbors import NearestNeighbors\n",
    "\n",
    "iris = datasets.load_iris()\n",
    "features, target = iris.data, iris.target\n",
    "\n",
    "standardizer = StandardScaler()\n",
    "\n",
    "features_standardized = standardizer.fit_transform(features)\n",
    "\n",
    "# set faiss parameters\n",
    "n_features = features_standardized.shape[1]\n",
    "nlist = 3\n",
    "k =2\n",
    "\n",
    "# create an IVF index\n",
    "quantizer = faiss.IndexFlatIP(n_features)\n",
    "index = faiss.IndexIVFFlat(quantizer, n_features, nlist)\n",
    "\n",
    "# Train the index and add feature vectors\n",
    "index.train(features_standardized)\n",
    "index.add(features_standardized)\n",
    "\n",
    "# create an observation\n",
    "new_observation = np.array([[1, 1, 1, 1]])\n",
    "\n",
    "# Search the index for the 2 nearest neighbors\n",
    "distances, indices = index.search(new_observation, k)\n",
    "\n",
    "np.array([list(features_standardized[i]) for i in indices[0]])"
   ]
  },
  {
   "cell_type": "code",
   "execution_count": 2,
   "id": "81f15f12",
   "metadata": {},
   "outputs": [
    {
     "name": "stdout",
     "output_type": "stream",
     "text": [
      "recall @k = 10: 100.0%\n"
     ]
    }
   ],
   "source": [
    "# 15.6 Evaluating Approximate Nearest Neighbors\n",
    "import faiss\n",
    "import numpy as np\n",
    "from sklearn import datasets\n",
    "from sklearn.preprocessing import StandardScaler\n",
    "from sklearn.neighbors import NearestNeighbors\n",
    "\n",
    "# number of nearest neighbors\n",
    "k = 10\n",
    "\n",
    "iris = datasets.load_iris()\n",
    "features, target = iris.data, iris.target\n",
    "\n",
    "standardizer = StandardScaler()\n",
    "\n",
    "features_standardized = standardizer.fit_transform(features)\n",
    "\n",
    "# crete KNN with 10 NN\n",
    "nearest_neighbors = NearestNeighbors(n_neighbors=k).fit(features_standardized)\n",
    "\n",
    "# Set faiss parameters\n",
    "n_features = features_standardized.shape[1]\n",
    "nlist = 3\n",
    "\n",
    "# Create an IVF index\n",
    "quantizer = faiss.IndexFlatIP(n_features)\n",
    "index = faiss.IndexIVFFlat(quantizer, n_features, nlist)\n",
    "\n",
    "# Train the index and add feature vectors\n",
    "index.train(features_standardized)\n",
    "index.add(features_standardized)\n",
    "\n",
    "index.nprobe = 1\n",
    "\n",
    "new_observation = np.array([[1, 1, 1, 1]])\n",
    "\n",
    "# Find distances and indices of the observation's exact nearest neighbors\n",
    "knn_distances, knn_indices = nearest_neighbors.kneighbors(new_observation)\n",
    "\n",
    "ivf_distances, ivf_indices = index.search(new_observation, k)\n",
    "\n",
    "# Get the set overlap\n",
    "recalled_items = set(list(knn_indices[0])) & set(list(ivf_indices[0]))\n",
    "\n",
    "print(f\"recall @k = {k}: {len(recalled_items)/k * 100}%\") "
   ]
  },
  {
   "cell_type": "code",
   "execution_count": null,
   "id": "d1756c8e",
   "metadata": {},
   "outputs": [],
   "source": []
  }
 ],
 "metadata": {
  "kernelspec": {
   "display_name": "myenv310",
   "language": "python",
   "name": "python3"
  },
  "language_info": {
   "codemirror_mode": {
    "name": "ipython",
    "version": 3
   },
   "file_extension": ".py",
   "mimetype": "text/x-python",
   "name": "python",
   "nbconvert_exporter": "python",
   "pygments_lexer": "ipython3",
   "version": "3.10.18"
  }
 },
 "nbformat": 4,
 "nbformat_minor": 5
}
