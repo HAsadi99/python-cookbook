{
 "cells": [
  {
   "cell_type": "code",
   "execution_count": 1,
   "id": "16787013",
   "metadata": {},
   "outputs": [],
   "source": [
    "# Chapter 18. Naive Bayes"
   ]
  },
  {
   "cell_type": "code",
   "execution_count": 3,
   "id": "4e1c41eb",
   "metadata": {},
   "outputs": [
    {
     "data": {
      "text/plain": [
       "array([1])"
      ]
     },
     "execution_count": 3,
     "metadata": {},
     "output_type": "execute_result"
    }
   ],
   "source": [
    "# 18.1 Training a Classifier for Continuous Features\n",
    "from sklearn import datasets\n",
    "from sklearn.naive_bayes import GaussianNB\n",
    "\n",
    "iris = datasets.load_iris()\n",
    "features, target = iris.data, iris.target\n",
    "\n",
    "# Create Gaussian naive Bayes object\n",
    "classifier = GaussianNB()\n",
    "\n",
    "# train model\n",
    "model = classifier.fit(features, target)\n",
    "\n",
    "# Create new observation\n",
    "new_observation = [[ 4, 4, 4, 0.4]]\n",
    "\n",
    "# predict class\n",
    "model.predict(new_observation)"
   ]
  },
  {
   "cell_type": "code",
   "execution_count": 4,
   "id": "fbe7f702",
   "metadata": {},
   "outputs": [],
   "source": [
    "# Create Gaussian naive Bayes object with prior probabilities of each class\n",
    "\n",
    "clf = GaussianNB(priors=[0.25, 0.25, 0.5])\n",
    "\n",
    "# train model\n",
    "model = classifier.fit(features, target)"
   ]
  },
  {
   "cell_type": "code",
   "execution_count": 10,
   "id": "f6028086",
   "metadata": {},
   "outputs": [
    {
     "data": {
      "text/plain": [
       "array([0])"
      ]
     },
     "execution_count": 10,
     "metadata": {},
     "output_type": "execute_result"
    }
   ],
   "source": [
    "# 18.2 Training a Classifier for Discrete and Count Features\n",
    "import numpy as np\n",
    "from sklearn.naive_bayes import MultinomialNB\n",
    "from sklearn.feature_extraction.text import CountVectorizer\n",
    "\n",
    "# Create text\n",
    "text_data = np.array(['I love Brazil. Brazil!',\n",
    "                        'Brazil is best',\n",
    "                        'Germany beats both'])\n",
    "\n",
    "# create bag of words\n",
    "count = CountVectorizer()\n",
    "bag_of_words = count.fit_transform(text_data)\n",
    "\n",
    "# create feature matrix\n",
    "features = bag_of_words.toarray()\n",
    "\n",
    "# create target vector\n",
    "target = np.array([0, 0, 1])\n",
    "\n",
    "# Create multinomial naive Bayes object with prior probabilities of each class\n",
    "classifier = MultinomialNB(class_prior=[0.25, 0.5])\n",
    "\n",
    "# train model\n",
    "model = classifier.fit(features, target)\n",
    "\n",
    "# Create new observation\n",
    "new_observation = [[0, 0, 0, 1, 0, 1, 0]]\n",
    "\n",
    "# predict class\n",
    "model.predict(new_observation)"
   ]
  },
  {
   "cell_type": "code",
   "execution_count": 11,
   "id": "b7d13d9d",
   "metadata": {},
   "outputs": [],
   "source": [
    "# 18.3 Training a Naive Bayes Classifier for Binary Features\n",
    "\n",
    "import numpy as np\n",
    "from sklearn.naive_bayes import BernoulliNB\n",
    "\n",
    "# create three binary features\n",
    "features = np.random.randint(2, size=(100, 3))\n",
    "\n",
    "# Create a binary target vector\n",
    "target = np.random.randint(2, size=(100,1)).ravel()\n",
    "\n",
    "classifier = BernoulliNB(class_prior=[0.25, 0.5])\n",
    "\n",
    "# train model\n",
    "model = classifier.fit(features, target)"
   ]
  },
  {
   "cell_type": "code",
   "execution_count": 13,
   "id": "642df8be",
   "metadata": {},
   "outputs": [],
   "source": [
    "model_uniform_prior = BernoulliNB(class_prior=None, fit_prior=False)"
   ]
  },
  {
   "cell_type": "code",
   "execution_count": null,
   "id": "c0f9a4f5",
   "metadata": {},
   "outputs": [
    {
     "data": {
      "text/plain": [
       "array([[0.31859971, 0.63663451, 0.04476578]])"
      ]
     },
     "execution_count": 14,
     "metadata": {},
     "output_type": "execute_result"
    }
   ],
   "source": [
    "# 18.4 Calibrating Predicted Probabilities\n",
    "from sklearn import datasets\n",
    "from sklearn.naive_bayes import GaussianNB\n",
    "from sklearn.calibration import CalibratedClassifierCV\n",
    "\n",
    "iris = datasets.load_iris()\n",
    "features, target = iris.data, iris.target\n",
    "\n",
    "classifier = GaussianNB()\n",
    "\n",
    "# Create calibrated cross-validation with sigmoid calibration\n",
    "classifier_sigmoid = CalibratedClassifierCV(classifier, cv=2, method='sigmoid')\n",
    "\n",
    "# Calibrate probabilities\n",
    "classifier_sigmoid.fit(features, target)\n",
    "\n",
    "new_observation = [[2.6, 2.6, 2.6, 0.4]]\n",
    "\n",
    "# View calibrated probabilities\n",
    "classifier_sigmoid.predict_proba(new_observation)"
   ]
  },
  {
   "cell_type": "code",
   "execution_count": null,
   "id": "e7b2ebf9",
   "metadata": {},
   "outputs": [
    {
     "data": {
      "text/plain": [
       "array([[2.31548432e-04, 9.99768128e-01, 3.23532277e-07]])"
      ]
     },
     "execution_count": 15,
     "metadata": {},
     "output_type": "execute_result"
    }
   ],
   "source": [
    "# # Train a Gaussian naive Bayes then predict class probabilities\n",
    "classifier.fit(features, target).predict_proba(new_observation)"
   ]
  }
 ],
 "metadata": {
  "kernelspec": {
   "display_name": "venv",
   "language": "python",
   "name": "python3"
  },
  "language_info": {
   "codemirror_mode": {
    "name": "ipython",
    "version": 3
   },
   "file_extension": ".py",
   "mimetype": "text/x-python",
   "name": "python",
   "nbconvert_exporter": "python",
   "pygments_lexer": "ipython3",
   "version": "3.10.18"
  }
 },
 "nbformat": 4,
 "nbformat_minor": 5
}
