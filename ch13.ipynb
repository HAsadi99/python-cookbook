{
 "cells": [
  {
   "cell_type": "code",
   "execution_count": null,
   "id": "4eb3d368",
   "metadata": {},
   "outputs": [],
   "source": [
    "# Chapter 13. Linear Regression"
   ]
  },
  {
   "cell_type": "code",
   "execution_count": null,
   "id": "cc204d59",
   "metadata": {},
   "outputs": [
    {
     "data": {
      "text/plain": [
       "np.float64(-0.009650118178817557)"
      ]
     },
     "execution_count": 1,
     "metadata": {},
     "output_type": "execute_result"
    }
   ],
   "source": [
    "# Fitting a data\n",
    "from sklearn.linear_model import LinearRegression\n",
    "from sklearn.datasets import make_regression\n",
    "\n",
    "# Generate features matrix, target vector\n",
    "features, target = make_regression(n_samples=100,\n",
    "                                   n_features= 3,\n",
    "                                   n_informative= 2,\n",
    "                                   n_targets= 1,\n",
    "                                   noise = 0.2,\n",
    "                                   coef= False,\n",
    "                                   random_state=1)\n",
    "\n",
    "# create linear regression\n",
    "regression = LinearRegression()\n",
    "\n",
    "# train\n",
    "model = regression.fit(features, target)\n",
    "\n",
    "# View the intercept\n",
    "model.intercept_"
   ]
  },
  {
   "cell_type": "code",
   "execution_count": null,
   "id": "c8338e07",
   "metadata": {},
   "outputs": [
    {
     "data": {
      "text/plain": [
       "array([1.95531234e-02, 4.42087450e+01, 5.81494563e+01])"
      ]
     },
     "execution_count": 2,
     "metadata": {},
     "output_type": "execute_result"
    }
   ],
   "source": [
    "# View the feature coefficients\n",
    "model.coef_"
   ]
  },
  {
   "cell_type": "code",
   "execution_count": 3,
   "id": "c671246e",
   "metadata": {},
   "outputs": [
    {
     "data": {
      "text/plain": [
       "np.float64(-20.870747595269407)"
      ]
     },
     "execution_count": 3,
     "metadata": {},
     "output_type": "execute_result"
    }
   ],
   "source": [
    "# First value in the target vector\n",
    "target[0]"
   ]
  },
  {
   "cell_type": "code",
   "execution_count": 4,
   "id": "f331e17b",
   "metadata": {},
   "outputs": [
    {
     "data": {
      "text/plain": [
       "np.float64(-20.861927709296822)"
      ]
     },
     "execution_count": 4,
     "metadata": {},
     "output_type": "execute_result"
    }
   ],
   "source": [
    "# Predict the target value of the first observation\n",
    "model.predict(features)[0]"
   ]
  },
  {
   "cell_type": "code",
   "execution_count": 5,
   "id": "c88d6f42",
   "metadata": {},
   "outputs": [
    {
     "data": {
      "text/plain": [
       "0.9999901732607787"
      ]
     },
     "execution_count": 5,
     "metadata": {},
     "output_type": "execute_result"
    }
   ],
   "source": [
    "model.score(features, target)"
   ]
  },
  {
   "cell_type": "code",
   "execution_count": 6,
   "id": "0ae4eb72",
   "metadata": {},
   "outputs": [],
   "source": [
    "# 13.2 Handling Interactive Effects\n",
    "from sklearn.linear_model import LinearRegression\n",
    "from sklearn.preprocessing import PolynomialFeatures\n",
    "from sklearn.datasets import make_regression\n",
    "\n",
    "# Generate features matrix, target vector\n",
    "features, target = make_regression(n_samples=100,\n",
    "                                   n_features= 2,\n",
    "                                   n_informative=2,\n",
    "                                   n_targets=1,\n",
    "                                   noise = 0.2 ,\n",
    "                                   coef = False,\n",
    "                                   random_state= 1)\n",
    "\n",
    "# create infraction trm\n",
    "interaction = PolynomialFeatures(degree= 3, include_bias=False , interaction_only= True)\n",
    "\n",
    "features_interaction = interaction.fit_transform(features)\n",
    "\n",
    "# Create linear regression\n",
    "regression = LinearRegression()\n",
    "\n",
    "# Fit the linear regression\n",
    "model  = regression.fit(features_interaction, target)"
   ]
  },
  {
   "cell_type": "code",
   "execution_count": 7,
   "id": "db2bb796",
   "metadata": {},
   "outputs": [
    {
     "data": {
      "text/plain": [
       "array([0.0465673 , 0.80186103])"
      ]
     },
     "execution_count": 7,
     "metadata": {},
     "output_type": "execute_result"
    }
   ],
   "source": [
    "features[0]"
   ]
  },
  {
   "cell_type": "code",
   "execution_count": null,
   "id": "f02dd601",
   "metadata": {},
   "outputs": [
    {
     "data": {
      "text/plain": [
       "np.float64(0.037340501965846186)"
      ]
     },
     "execution_count": 8,
     "metadata": {},
     "output_type": "execute_result"
    }
   ],
   "source": [
    "import numpy as np\n",
    "\n",
    "# For each observation, multiply the values of the first and second feature\n",
    "interaction_term = np.multiply(features[: , 0], features[:, 1])\n",
    "\n",
    "# View interaction term for first observation\n",
    "interaction_term[0]"
   ]
  },
  {
   "cell_type": "code",
   "execution_count": 9,
   "id": "5dc33df1",
   "metadata": {},
   "outputs": [
    {
     "data": {
      "text/plain": [
       "array([0.0465673 , 0.80186103, 0.0373405 ])"
      ]
     },
     "execution_count": 9,
     "metadata": {},
     "output_type": "execute_result"
    }
   ],
   "source": [
    "# View the values of the first observation\n",
    "features_interaction[0]"
   ]
  },
  {
   "cell_type": "code",
   "execution_count": 23,
   "id": "54192960",
   "metadata": {},
   "outputs": [
    {
     "data": {
      "text/plain": [
       "array([-0.61175641])"
      ]
     },
     "execution_count": 23,
     "metadata": {},
     "output_type": "execute_result"
    }
   ],
   "source": [
    "# 13.3 Fitting a Nonlinear Relationship\n",
    "\n",
    "from sklearn.linear_model import LinearRegression\n",
    "from sklearn.preprocessing import PolynomialFeatures\n",
    "from sklearn.datasets import make_regression\n",
    "\n",
    "features, target = make_regression(n_samples=100,\n",
    "                                   n_features= 1,\n",
    "                                   n_informative=1,\n",
    "                                   n_targets= 1,\n",
    "                                   noise = 0.2 ,\n",
    "                                   coef = False,\n",
    "                                   random_state= 1)\n",
    "\n",
    "# Create polynomial features x^2 and x^3\n",
    "polynomial = PolynomialFeatures(degree=3, include_bias=False)\n",
    "features_polynomial = polynomial.fit_transform(features)\n",
    "\n",
    "# Create linear regression\n",
    "regression = LinearRegression()\n",
    "\n",
    "# Fit the linear regression\n",
    "model = regression.fit(features_polynomial, target)\n",
    "\n",
    "# view first observation\n",
    "features[0] "
   ]
  },
  {
   "cell_type": "code",
   "execution_count": null,
   "id": "837e1233",
   "metadata": {},
   "outputs": [
    {
     "data": {
      "text/plain": [
       "array([0.37424591])"
      ]
     },
     "execution_count": 24,
     "metadata": {},
     "output_type": "execute_result"
    }
   ],
   "source": [
    "# View first observation raised to the second power, x^2\n",
    "features[0] ** 2"
   ]
  },
  {
   "cell_type": "code",
   "execution_count": null,
   "id": "9f944046",
   "metadata": {},
   "outputs": [
    {
     "data": {
      "text/plain": [
       "array([-0.22894734])"
      ]
     },
     "execution_count": 25,
     "metadata": {},
     "output_type": "execute_result"
    }
   ],
   "source": [
    "# View first observation raised to the third power, x^3\n",
    "features[0] ** 3"
   ]
  },
  {
   "cell_type": "code",
   "execution_count": null,
   "id": "d5baa59b",
   "metadata": {},
   "outputs": [
    {
     "data": {
      "text/plain": [
       "array([-0.61175641,  0.37424591, -0.22894734])"
      ]
     },
     "execution_count": 26,
     "metadata": {},
     "output_type": "execute_result"
    }
   ],
   "source": [
    "# View the first observation's values for x, x^2, and x^3\n",
    "features_polynomial[0]"
   ]
  },
  {
   "cell_type": "code",
   "execution_count": 40,
   "id": "5e48de30",
   "metadata": {},
   "outputs": [
    {
     "data": {
      "text/plain": [
       "array([-5.53808182e-03,  4.38955637e+01,  5.36603715e+01])"
      ]
     },
     "execution_count": 40,
     "metadata": {},
     "output_type": "execute_result"
    }
   ],
   "source": [
    "# 13.4 Reducing Variance with Regularization\n",
    "\n",
    "from sklearn.linear_model import Ridge\n",
    "from sklearn.preprocessing import StandardScaler\n",
    "from sklearn.datasets import make_regression\n",
    "\n",
    "features, target = make_regression(n_samples=100,\n",
    "                                   n_features= 3,\n",
    "                                   n_informative=2,\n",
    "                                   n_targets= 1,\n",
    "                                   noise = 0.2 ,\n",
    "                                   coef = False,\n",
    "                                   random_state= 1)\n",
    "\n",
    "# # Standardize features\n",
    "scaler = StandardScaler()\n",
    "features_standardized = scaler.fit_transform(features)\n",
    "\n",
    "# Create ridge regression with an alpha value\n",
    "regression = Ridge(alpha=0.5)\n",
    "\n",
    "# Fit the linear regression\n",
    "model = regression.fit(features_standardized, target)\n",
    "\n",
    "model.coef_"
   ]
  },
  {
   "cell_type": "code",
   "execution_count": 41,
   "id": "a40ba19b",
   "metadata": {},
   "outputs": [
    {
     "data": {
      "text/plain": [
       "array([1.29223201e-02, 4.40972291e+01, 5.38979372e+01])"
      ]
     },
     "execution_count": 41,
     "metadata": {},
     "output_type": "execute_result"
    }
   ],
   "source": [
    "from sklearn.linear_model import RidgeCV\n",
    "\n",
    "# Create ridge regression with three alpha values\n",
    "regr_cv = RidgeCV(alphas=[0.1, 1.0, 10.0])\n",
    "\n",
    "# Fit the linear regression\n",
    "model_cv = regr_cv.fit(features_standardized, target)\n",
    "\n",
    "# view coefficient\n",
    "model_cv.coef_"
   ]
  },
  {
   "cell_type": "code",
   "execution_count": 42,
   "id": "e1d68ebb",
   "metadata": {},
   "outputs": [
    {
     "data": {
      "text/plain": [
       "np.float64(0.1)"
      ]
     },
     "execution_count": 42,
     "metadata": {},
     "output_type": "execute_result"
    }
   ],
   "source": [
    "model_cv.alpha_"
   ]
  },
  {
   "cell_type": "code",
   "execution_count": 48,
   "id": "4281b210",
   "metadata": {},
   "outputs": [
    {
     "data": {
      "text/plain": [
       "array([-0.        , 43.58618393, 53.39523724])"
      ]
     },
     "execution_count": 48,
     "metadata": {},
     "output_type": "execute_result"
    }
   ],
   "source": [
    "# 13.5 Reducing Features with Lasso Regression\n",
    "\n",
    "from sklearn.linear_model import Lasso\n",
    "from sklearn.preprocessing import StandardScaler\n",
    "from sklearn.datasets import make_regression\n",
    "\n",
    "features, target = make_regression(n_samples=100,\n",
    "                                   n_features= 3,\n",
    "                                   n_informative=2,\n",
    "                                   n_targets= 1,\n",
    "                                   noise = 0.2 ,\n",
    "                                   coef = False,\n",
    "                                   random_state= 1)\n",
    "scaler = StandardScaler()\n",
    "features_standardized = scaler.fit_transform(features)\n",
    "\n",
    "# Create lasso regression with alpha value\n",
    "regression = Lasso(alpha=0.5)\n",
    "\n",
    "# Fit the linear regression\n",
    "model = regression.fit(features_standardized, target)\n",
    "\n",
    "model.coef_"
   ]
  },
  {
   "cell_type": "code",
   "execution_count": 49,
   "id": "c2637714",
   "metadata": {},
   "outputs": [
    {
     "data": {
      "text/plain": [
       "array([-0.        , 32.92181899, 42.73086731])"
      ]
     },
     "execution_count": 49,
     "metadata": {},
     "output_type": "execute_result"
    }
   ],
   "source": [
    "\n",
    "regression_alpha10 = Lasso(alpha=10)\n",
    "model_alpha10 = regression_alpha10.fit(features_standardized, target)\n",
    "model_alpha10.coef_"
   ]
  },
  {
   "cell_type": "code",
   "execution_count": null,
   "id": "f5ba9fe3",
   "metadata": {},
   "outputs": [],
   "source": []
  }
 ],
 "metadata": {
  "kernelspec": {
   "display_name": "myenv310",
   "language": "python",
   "name": "python3"
  },
  "language_info": {
   "codemirror_mode": {
    "name": "ipython",
    "version": 3
   },
   "file_extension": ".py",
   "mimetype": "text/x-python",
   "name": "python",
   "nbconvert_exporter": "python",
   "pygments_lexer": "ipython3",
   "version": "3.10.18"
  }
 },
 "nbformat": 4,
 "nbformat_minor": 5
}
