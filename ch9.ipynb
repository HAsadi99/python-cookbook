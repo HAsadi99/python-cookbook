{
 "cells": [
  {
   "cell_type": "code",
   "execution_count": null,
   "id": "a194e0fb",
   "metadata": {},
   "outputs": [],
   "source": [
    "# Chapter 9. Dimensionality Reduction Using Feature Extraction"
   ]
  },
  {
   "cell_type": "code",
   "execution_count": 7,
   "id": "28c65a09",
   "metadata": {},
   "outputs": [
    {
     "name": "stdout",
     "output_type": "stream",
     "text": [
      "original number of features:  64\n",
      "Reduced number of features:  54\n"
     ]
    }
   ],
   "source": [
    "# 9.1 Reducing Features Using Principal Components\n",
    "\n",
    "from sklearn.preprocessing import StandardScaler\n",
    "from sklearn.decomposition import PCA\n",
    "from sklearn import datasets\n",
    "\n",
    "# load the data\n",
    "digits = datasets.load_digits()\n",
    "\n",
    "# # Standardize the feature matrix\n",
    "features = StandardScaler().fit_transform(digits.data)\n",
    "\n",
    "# # Create a PCA that will retain 99% of variance\n",
    "pca = PCA(n_components=0.99, whiten=True)\n",
    "\n",
    "# Conduct PCA\n",
    "features_pca = pca.fit_transform(features)\n",
    "\n",
    "print(\"original number of features: \", features.shape[1])\n",
    "print(\"Reduced number of features: \", features_pca.shape[1])\n"
   ]
  },
  {
   "cell_type": "code",
   "execution_count": 9,
   "id": "fde29ec8",
   "metadata": {},
   "outputs": [
    {
     "name": "stdout",
     "output_type": "stream",
     "text": [
      "Original number of features:  2\n",
      "Reduced number of features:  1\n"
     ]
    }
   ],
   "source": [
    "# 9.2 Reducing Features When Data Is Linearly Inseparable\n",
    "\n",
    "from sklearn.decomposition import PCA, KernelPCA\n",
    "from sklearn.datasets import make_circles\n",
    "\n",
    "# Create linearly inseparable data\n",
    "features, _ = make_circles(n_samples=1000, random_state=1, noise=0.1, factor=0.1)\n",
    "\n",
    "#Apply kernel PCA with radius basis function (RBF) kernel\n",
    "kpca = KernelPCA(kernel=\"rbf\", gamma=15, n_components=1)\n",
    "features_kpca =  kpca.fit_transform(features)\n",
    "\n",
    "print(\"Original number of features: \", features.shape[1])\n",
    "print(\"Reduced number of features: \", features_kpca.shape[1])"
   ]
  },
  {
   "cell_type": "code",
   "execution_count": null,
   "id": "1d917e1c",
   "metadata": {},
   "outputs": [
    {
     "name": "stdout",
     "output_type": "stream",
     "text": [
      "Original number of features:  4\n",
      "Reduced number of features:  1\n"
     ]
    }
   ],
   "source": [
    "# 9.3 Reducing Features by Maximizing Class Separability\n",
    "\n",
    "from sklearn import datasets\n",
    "from sklearn.discriminant_analysis import LinearDiscriminantAnalysis\n",
    "\n",
    "# load iris flower dataset\n",
    "iris = datasets.load_iris()\n",
    "features = iris.data\n",
    "target = iris.target\n",
    "\n",
    "# Create and run an LDA, then use it to transform the features\n",
    "lda = LinearDiscriminantAnalysis(n_components=1)\n",
    "features_lda = lda.fit(features, target).transform(features)\n",
    "\n",
    "# print the number of features\n",
    "print(\"Original number of features: \", features.shape[1])\n",
    "print(\"Reduced number of features: \", features_lda.shape[1])"
   ]
  },
  {
   "cell_type": "code",
   "execution_count": 2,
   "id": "ca37de77",
   "metadata": {},
   "outputs": [
    {
     "data": {
      "text/plain": [
       "array([0.9912126])"
      ]
     },
     "execution_count": 2,
     "metadata": {},
     "output_type": "execute_result"
    }
   ],
   "source": [
    "lda.explained_variance_ratio_"
   ]
  },
  {
   "cell_type": "code",
   "execution_count": 3,
   "id": "22848590",
   "metadata": {},
   "outputs": [
    {
     "data": {
      "text/plain": [
       "1"
      ]
     },
     "execution_count": 3,
     "metadata": {},
     "output_type": "execute_result"
    }
   ],
   "source": [
    "# Run  LinearDiscriminantAnalysis with n_components set to None\n",
    "\n",
    "# create and run LDA\n",
    "lda = LinearDiscriminantAnalysis(n_components=None)\n",
    "features_lda = lda.fit(features, target)\n",
    "\n",
    "# create array of explained variance ratios\n",
    "lda_var_ratios = lda.explained_variance_ratio_\n",
    "\n",
    "# create function\n",
    "def select_n_component(var_ratio, goal_var: float) -> int:\n",
    "    \n",
    "    total_variance = 0\n",
    "    \n",
    "    # initial number of features\n",
    "    n_component = 0\n",
    "    \n",
    "    for explained_variance in var_ratio:\n",
    "        total_variance += explained_variance\n",
    "        \n",
    "        n_component += 1\n",
    "        \n",
    "        if total_variance >= goal_var:\n",
    "            break\n",
    "    \n",
    "    return n_component\n",
    "\n",
    "select_n_component(lda_var_ratios,0.95)\n",
    "    "
   ]
  },
  {
   "cell_type": "code",
   "execution_count": 1,
   "id": "87c2e66b",
   "metadata": {},
   "outputs": [
    {
     "name": "stdout",
     "output_type": "stream",
     "text": [
      "original number of features:  64\n",
      "reduced number of features:  10\n"
     ]
    }
   ],
   "source": [
    "# 9.4 Reducing Features Using Matrix Factorization\n",
    "# Use nonnegative matrix factorization (NMF)\n",
    "\n",
    "from sklearn.decomposition import NMF\n",
    "from sklearn import datasets\n",
    "\n",
    "# load data\n",
    "digits = datasets.load_digits()\n",
    "\n",
    "# load feature matrix\n",
    "features = digits.data\n",
    "\n",
    "# create and fir and apply NMF\n",
    "nmf = NMF(n_components=10, random_state=4)\n",
    "features_nmf = nmf.fit_transform(features)\n",
    "\n",
    "print(\"original number of features: \", features.shape[1])\n",
    "print(\"reduced number of features: \", features_nmf.shape[1])"
   ]
  },
  {
   "cell_type": "code",
   "execution_count": 30,
   "id": "5981461c",
   "metadata": {},
   "outputs": [
    {
     "name": "stdout",
     "output_type": "stream",
     "text": [
      "original number of features:  64\n",
      "reduced number of features:  10\n"
     ]
    }
   ],
   "source": [
    "# 9.5 Reducing Features on Sparse Data\n",
    "\n",
    "from sklearn.preprocessing import StandardScaler\n",
    "from sklearn.decomposition import TruncatedSVD\n",
    "from scipy.sparse import csr_matrix\n",
    "from sklearn import datasets\n",
    "import numpy as np\n",
    "\n",
    "# load the data\n",
    "digits = datasets.load_digits()\n",
    "\n",
    "# Standardize feature matrix\n",
    "features = StandardScaler().fit_transform(digits.data)\n",
    "\n",
    "# make sparse matrix\n",
    "features_sparse = csr_matrix(features)\n",
    "\n",
    "# create a TSVD\n",
    "tsvd = TruncatedSVD(n_components=10)\n",
    "\n",
    "features_sparse_tsvd = tsvd.fit(features_sparse).transform(features_sparse)\n",
    "\n",
    "print(\"original number of features: \", features_sparse.shape[1])\n",
    "print(\"reduced number of features: \", features_sparse_tsvd.shape[1])"
   ]
  },
  {
   "cell_type": "code",
   "execution_count": 31,
   "id": "fcb032cf",
   "metadata": {},
   "outputs": [
    {
     "data": {
      "text/plain": [
       "array([[-1.9142176 , -0.95450096, -3.94603194, ...,  1.49702093,\n",
       "         0.13070244, -0.82291922],\n",
       "       [-0.58897591,  0.92463595,  3.92476521, ...,  0.55603383,\n",
       "         1.07432705,  0.09376282],\n",
       "       [-1.30203469, -0.31718982,  3.0233352 , ...,  1.15353154,\n",
       "         0.77918653, -1.10457132],\n",
       "       ...,\n",
       "       [-1.02259596, -0.14791073,  2.46997036, ...,  0.52912405,\n",
       "         2.05476542, -2.03812374],\n",
       "       [-1.07605884, -0.38090814, -2.4554995 , ...,  0.76512564,\n",
       "         1.08186336, -0.34064668],\n",
       "       [ 1.25769755, -2.22758764,  0.2836077 , ..., -1.20408527,\n",
       "         0.82285946, -1.82851047]])"
      ]
     },
     "execution_count": 31,
     "metadata": {},
     "output_type": "execute_result"
    }
   ],
   "source": [
    "features_sparse_tsvd"
   ]
  },
  {
   "cell_type": "code",
   "execution_count": 39,
   "id": "6795dd6e",
   "metadata": {},
   "outputs": [
    {
     "data": {
      "text/plain": [
       "array([1.20339161e-01, 9.56105440e-02, 8.44441489e-02, 6.49840791e-02,\n",
       "       4.86015488e-02, 4.21411987e-02, 3.94208280e-02, 3.38938092e-02,\n",
       "       2.99822101e-02, 2.93200255e-02, 2.78180546e-02, 2.57705509e-02,\n",
       "       2.27530332e-02, 2.22717974e-02, 2.16522943e-02, 1.91416661e-02,\n",
       "       1.77554709e-02, 1.63806927e-02, 1.59646017e-02, 1.48919119e-02,\n",
       "       1.34796957e-02, 1.27193137e-02, 1.16583735e-02, 1.05764660e-02,\n",
       "       9.75315947e-03, 9.44558990e-03, 8.63013827e-03, 8.36642854e-03,\n",
       "       7.97693248e-03, 7.46471371e-03, 7.25582151e-03, 6.91911245e-03,\n",
       "       6.53908536e-03, 6.40792574e-03, 5.91384112e-03, 5.71162405e-03,\n",
       "       5.23636803e-03, 4.81807586e-03, 4.53719260e-03, 4.23162753e-03,\n",
       "       4.06053070e-03, 3.97084808e-03, 3.56493303e-03, 3.40787181e-03,\n",
       "       3.27835335e-03, 3.11032007e-03, 2.88575294e-03, 2.76489264e-03,\n",
       "       2.59174941e-03, 2.34483006e-03, 2.18256858e-03, 2.03597635e-03,\n",
       "       1.95512426e-03, 1.83318499e-03, 1.67946387e-03, 1.61236062e-03,\n",
       "       1.47762694e-03, 1.35118411e-03, 1.25100742e-03, 1.03695730e-03,\n",
       "       8.25350945e-04, 1.12687652e-32, 4.00576800e-33])"
      ]
     },
     "execution_count": 39,
     "metadata": {},
     "output_type": "execute_result"
    }
   ],
   "source": [
    "tsvd.explained_variance_ratio_"
   ]
  },
  {
   "cell_type": "code",
   "execution_count": 40,
   "id": "ad038b83",
   "metadata": {},
   "outputs": [
    {
     "data": {
      "text/plain": [
       "np.float64(0.30039385393457296)"
      ]
     },
     "execution_count": 40,
     "metadata": {},
     "output_type": "execute_result"
    }
   ],
   "source": [
    "tsvd.explained_variance_ratio_[0:3].sum()"
   ]
  },
  {
   "cell_type": "code",
   "execution_count": 42,
   "id": "9eba32fb",
   "metadata": {},
   "outputs": [
    {
     "data": {
      "text/plain": [
       "40"
      ]
     },
     "execution_count": 42,
     "metadata": {},
     "output_type": "execute_result"
    }
   ],
   "source": [
    "# Create and run a TSVD with one less than number of features\n",
    "tvsd = TruncatedSVD(n_components=features_sparse.shape[1]-1)\n",
    "features_tsvd = tsvd.fit(features)\n",
    "\n",
    "tsvd_var_ratio = tsvd.explained_variance_ratio_\n",
    "\n",
    "def select_n_components(var_ratio, goal_var):\n",
    "    \n",
    "    total_variance = 0\n",
    "    n_components = 0\n",
    "    \n",
    "    for explained_variance in var_ratio:\n",
    "        total_variance += explained_variance\n",
    "        n_components += 1\n",
    "        \n",
    "        if total_variance >= goal_var:\n",
    "            break\n",
    "    \n",
    "    return n_components\n",
    "\n",
    "\n",
    "select_n_components(tsvd_var_ratio, 0.95)"
   ]
  },
  {
   "cell_type": "code",
   "execution_count": 22,
   "id": "25e620bc",
   "metadata": {},
   "outputs": [
    {
     "data": {
      "text/plain": [
       "10"
      ]
     },
     "execution_count": 22,
     "metadata": {},
     "output_type": "execute_result"
    }
   ],
   "source": [
    "tsvd_var_ratio.size"
   ]
  }
 ],
 "metadata": {
  "kernelspec": {
   "display_name": "myenv310",
   "language": "python",
   "name": "python3"
  },
  "language_info": {
   "codemirror_mode": {
    "name": "ipython",
    "version": 3
   },
   "file_extension": ".py",
   "mimetype": "text/x-python",
   "name": "python",
   "nbconvert_exporter": "python",
   "pygments_lexer": "ipython3",
   "version": "3.10.18"
  }
 },
 "nbformat": 4,
 "nbformat_minor": 5
}
