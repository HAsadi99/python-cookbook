{
 "cells": [
  {
   "cell_type": "code",
   "execution_count": 1,
   "id": "af7e29b0",
   "metadata": {},
   "outputs": [],
   "source": [
    "# Chapter 21. Neural Networks"
   ]
  },
  {
   "cell_type": "code",
   "execution_count": 5,
   "id": "9a109a34",
   "metadata": {},
   "outputs": [
    {
     "data": {
      "text/plain": [
       "tensor([1., 1., 1.])"
      ]
     },
     "execution_count": 5,
     "metadata": {},
     "output_type": "execute_result"
    }
   ],
   "source": [
    "# 21.1 Using Autograd with PyTorch\n",
    "\n",
    "import torch\n",
    "\n",
    "# create a torch tensor that requires gradients\n",
    "t =torch.tensor([1.0, 2.0, 3.0], requires_grad=True)\n",
    "\n",
    "# Perform a tensor operation simulating \"forward propagation\"\n",
    "tensor_sum = t.sum()\n",
    "\n",
    "# Perform back propagation\n",
    "tensor_sum.backward()\n",
    "\n",
    "# View the gradients\n",
    "t.grad"
   ]
  },
  {
   "cell_type": "code",
   "execution_count": 8,
   "id": "415f5211",
   "metadata": {},
   "outputs": [
    {
     "ename": "RuntimeError",
     "evalue": "Can't call numpy() on Tensor that requires grad. Use tensor.detach().numpy() instead.",
     "output_type": "error",
     "traceback": [
      "\u001b[0;31m---------------------------------------------------------------------------\u001b[0m",
      "\u001b[0;31mRuntimeError\u001b[0m                              Traceback (most recent call last)",
      "Cell \u001b[0;32mIn[8], line 2\u001b[0m\n\u001b[1;32m      1\u001b[0m tensor \u001b[38;5;241m=\u001b[39m torch\u001b[38;5;241m.\u001b[39mtensor([\u001b[38;5;241m1.0\u001b[39m,\u001b[38;5;241m2.0\u001b[39m,\u001b[38;5;241m3.0\u001b[39m], requires_grad\u001b[38;5;241m=\u001b[39m\u001b[38;5;28;01mTrue\u001b[39;00m)\n\u001b[0;32m----> 2\u001b[0m \u001b[43mtensor\u001b[49m\u001b[38;5;241;43m.\u001b[39;49m\u001b[43mnumpy\u001b[49m\u001b[43m(\u001b[49m\u001b[43m)\u001b[49m\n",
      "\u001b[0;31mRuntimeError\u001b[0m: Can't call numpy() on Tensor that requires grad. Use tensor.detach().numpy() instead."
     ]
    }
   ],
   "source": [
    "tensor = torch.tensor([1.0,2.0,3.0], requires_grad=True)\n",
    "tensor.numpy()"
   ]
  },
  {
   "cell_type": "code",
   "execution_count": 14,
   "id": "97be1732",
   "metadata": {},
   "outputs": [
    {
     "data": {
      "text/plain": [
       "array([1., 2., 3.], dtype=float32)"
      ]
     },
     "execution_count": 14,
     "metadata": {},
     "output_type": "execute_result"
    }
   ],
   "source": [
    "tensor.detach().numpy()"
   ]
  },
  {
   "cell_type": "code",
   "execution_count": 10,
   "id": "ffbd427d",
   "metadata": {},
   "outputs": [
    {
     "data": {
      "text/plain": [
       "tensor([[-1.1254,  1.9643],\n",
       "        [-1.1533, -0.5007],\n",
       "        [ 0.2953, -0.2281],\n",
       "        [ 0.5739, -0.4234],\n",
       "        [ 1.4096, -0.8122]], dtype=torch.float64)"
      ]
     },
     "execution_count": 10,
     "metadata": {},
     "output_type": "execute_result"
    }
   ],
   "source": [
    "# 21.2 Preprocessing Data for Neural Networks\n",
    "from sklearn import preprocessing\n",
    "import numpy as np\n",
    "\n",
    "# create feature\n",
    "features = np.array([[-100.1, 3240.1],\n",
    "                     [-200.2, -234.1],\n",
    "                     [5000.5, 150.1],\n",
    "                     [6000.6, -125.1],\n",
    "                     [9000.9, -673.1]])\n",
    "\n",
    "# create scaler\n",
    "scaler = preprocessing.StandardScaler()\n",
    "\n",
    "features_scaled = scaler.fit_transform(features)\n",
    "\n",
    "# convert to a tensor\n",
    "features_standardized_tensor = torch.from_numpy(features_scaled)\n",
    "\n",
    "# show features\n",
    "features_standardized_tensor\n"
   ]
  },
  {
   "cell_type": "code",
   "execution_count": 11,
   "id": "a4dbfd30",
   "metadata": {},
   "outputs": [
    {
     "data": {
      "text/plain": [
       "array([[-1.12541308,  1.96429418],\n",
       "       [-1.15329466, -0.50068741],\n",
       "       [ 0.29529406, -0.22809346],\n",
       "       [ 0.57385917, -0.42335076],\n",
       "       [ 1.40955451, -0.81216255]])"
      ]
     },
     "execution_count": 11,
     "metadata": {},
     "output_type": "execute_result"
    }
   ],
   "source": [
    "features_scaled"
   ]
  },
  {
   "cell_type": "code",
   "execution_count": 17,
   "id": "0c2d3080",
   "metadata": {},
   "outputs": [
    {
     "data": {
      "text/plain": [
       "tensor([[-1.1254,  1.9643],\n",
       "        [-1.1533, -0.5007],\n",
       "        [ 0.2953, -0.2281],\n",
       "        [ 0.5739, -0.4234],\n",
       "        [ 1.4096, -0.8122]], grad_fn=<DivBackward0>)"
      ]
     },
     "execution_count": 17,
     "metadata": {},
     "output_type": "execute_result"
    }
   ],
   "source": [
    "import torch\n",
    "\n",
    "torch_features = torch.tensor([[-100.1, 3240.1],\n",
    "                               [-200.2, -234.1],\n",
    "                               [5000.5, 150.1],\n",
    "                               [6000.6, -125.1],\n",
    "                               [9000.9, -673.1]], requires_grad=True)\n",
    "\n",
    "\n",
    "# Compute the mean and standard deviation\n",
    "mean = torch_features.mean(0, keepdim=True)\n",
    "standard_deviation = torch_features.std(0, unbiased=False, keepdim=True)\n",
    "\n",
    "# Standardize the features using the mean and standard deviation\n",
    "torch_features_standardized = torch_features - mean\n",
    "torch_features_standardized /= standard_deviation\n",
    "\n",
    "# Show standardized features\n",
    "torch_features_standardized"
   ]
  },
  {
   "cell_type": "code",
   "execution_count": 14,
   "id": "d92774c2",
   "metadata": {},
   "outputs": [
    {
     "data": {
      "text/plain": [
       "tensor([[3940.3403,  471.5800]], grad_fn=<MeanBackward1>)"
      ]
     },
     "execution_count": 14,
     "metadata": {},
     "output_type": "execute_result"
    }
   ],
   "source": [
    "mean"
   ]
  },
  {
   "cell_type": "code",
   "execution_count": null,
   "id": "6d0473e4",
   "metadata": {},
   "outputs": [
    {
     "data": {
      "text/plain": [
       "SimpleNeuralNet(\n",
       "  (fc1): Linear(in_features=10, out_features=16, bias=True)\n",
       "  (fc2): Linear(in_features=16, out_features=16, bias=True)\n",
       "  (fc3): Linear(in_features=16, out_features=1, bias=True)\n",
       ")"
      ]
     },
     "execution_count": 19,
     "metadata": {},
     "output_type": "execute_result"
    }
   ],
   "source": [
    "# 21.3 Designing a Neural Network\n",
    "\n",
    "import torch\n",
    "import torch.nn as nn\n",
    "\n",
    "# define a neural network\n",
    "class SimpleNeuralNet(nn.Module):\n",
    "    def __init__(self):\n",
    "        super(SimpleNeuralNet, self).__init__()\n",
    "        self.fc1 = nn.Linear(10, 16)\n",
    "        self.fc2 = nn.Linear(16, 16)\n",
    "        self.fc3 = nn.Linear(16, 1)\n",
    "\n",
    "    \n",
    "    def forward(self, x):\n",
    "        x = nn.functional.relu(self.fc1(x))\n",
    "        x = nn.functional.relu(self.fc2(x))\n",
    "        x = nn.functional.sigmoid(self.fc3(x))\n",
    "        return x\n",
    "    \n",
    "# Initialize the neural network\n",
    "network = SimpleNeuralNet()\n",
    "\n",
    "# Define loss function, optimizer\n",
    "# Binary cross-entropy\n",
    "loss_criterion = nn.BCELoss()      # loss function for binary classify\n",
    "\n",
    "# RMSprob is an optimization algorithm using gradient to update weights\n",
    "optimizer = torch.optim.RMSprop(network.parameters())\n",
    "\n",
    "# show the network\n",
    "network"
   ]
  },
  {
   "cell_type": "code",
   "execution_count": 21,
   "id": "28c5d31a",
   "metadata": {},
   "outputs": [
    {
     "data": {
      "text/plain": [
       "SimpleNeuralNet(\n",
       "  (sequential): Sequential(\n",
       "    (0): Linear(in_features=10, out_features=16, bias=True)\n",
       "    (1): ReLU()\n",
       "    (2): Linear(in_features=16, out_features=16, bias=True)\n",
       "    (3): ReLU()\n",
       "    (4): Linear(in_features=16, out_features=1, bias=True)\n",
       "    (5): Sigmoid()\n",
       "  )\n",
       ")"
      ]
     },
     "execution_count": 21,
     "metadata": {},
     "output_type": "execute_result"
    }
   ],
   "source": [
    "import torch\n",
    "\n",
    "# define a neural network using 'sequential\n",
    "class SimpleNeuralNet(nn.Module):\n",
    "    def __init__(self):\n",
    "        super(SimpleNeuralNet, self).__init__()\n",
    "        self.sequential = torch.nn.Sequential(\n",
    "            torch.nn.Linear(10, 16),\n",
    "            torch.nn.ReLU(),\n",
    "            torch.nn.Linear(16, 16),\n",
    "            torch.nn.ReLU(),\n",
    "            torch.nn.Linear(16, 1),\n",
    "            torch.nn.Sigmoid()\n",
    "        )\n",
    "    \n",
    "    def forward(self, x):\n",
    "        x = self.sequential(x)\n",
    "        return x\n",
    "\n",
    "# Instantiate and view the network\n",
    "SimpleNeuralNet()"
   ]
  },
  {
   "cell_type": "code",
   "execution_count": null,
   "id": "3122b10c",
   "metadata": {},
   "outputs": [
    {
     "name": "stdout",
     "output_type": "stream",
     "text": [
      "Epoch 1 \tLoss: 0.19006994366645813\n",
      "Epoch 2 \tLoss: 0.14092367887496948\n",
      "Epoch 3 \tLoss: 0.03935524821281433\n",
      "Test Loss: 0.06877756863832474 \tTest Accuracy: 0.9700000286102295\n"
     ]
    }
   ],
   "source": [
    "# 21.4 Training a Binary Classifier\n",
    "\n",
    "import torch\n",
    "import torch.nn as nn\n",
    "import numpy as np\n",
    "from torch.utils.data import DataLoader, TensorDataset\n",
    "from sklearn.datasets import make_classification\n",
    "from sklearn.model_selection import train_test_split\n",
    "\n",
    "# create training and test sets\n",
    "features, target = make_classification(n_classes=2,\n",
    "                                       n_features=10,\n",
    "                                       n_samples=1000)\n",
    "features_train , features_test, target_train, target_test = train_test_split(\n",
    "                          features, target, test_size=0.1, random_state=1)\n",
    "\n",
    "\n",
    "# set random seed\n",
    "torch.manual_seed(0)\n",
    "np.random.seed(0)\n",
    "\n",
    "# Convert data to PyTorch tensors\n",
    "x_train = torch.from_numpy(features_train).float()\n",
    "y_train = torch.from_numpy(target_train).float().view(-1, 1)\n",
    "x_test = torch.from_numpy(features_test).float()\n",
    "y_test = torch.from_numpy(target_test).float().view(-1, 1)\n",
    "\n",
    "class SimpleNeuralNet(nn.Module):\n",
    "    def __init__(self):\n",
    "        super(SimpleNeuralNet, self).__init__()\n",
    "        self.sequentail = torch.nn.Sequential(\n",
    "            torch.nn.Linear(10, 16),\n",
    "            torch.nn.ReLU(),\n",
    "            torch.nn.Linear(16, 16),\n",
    "            torch.nn.ReLU(),\n",
    "            torch.nn.Linear(16, 1),\n",
    "            torch.nn.Sigmoid()\n",
    "        )\n",
    "\n",
    "    def forward(self, x):\n",
    "        x = self.sequentail(x)\n",
    "        return x\n",
    "    \n",
    "# Initialize neural network\n",
    "network = SimpleNeuralNet()\n",
    "\n",
    "# Define loss function, optimizer\n",
    "criterion = nn.BCELoss()\n",
    "optimizer = torch.optim.RMSprop(network.parameters())\n",
    "\n",
    "# Define data loader\n",
    "train_data = TensorDataset(x_train, y_train)\n",
    "train_loader = DataLoader(train_data, batch_size=100, shuffle=True)\n",
    "\n",
    "# Compile the model using torch 2.0's optimizer\n",
    "network = torch.compile(network, backend=\"eager\")\n",
    "\n",
    "# train neural network\n",
    "epochs = 3\n",
    "for epoch in range(epochs):\n",
    "    for bach_idx, (data, target) in enumerate(train_loader):\n",
    "        optimizer.zero_grad()\n",
    "        output = network(data)\n",
    "        loss = criterion(output, target)\n",
    "        loss.backward()            # compute gradient\n",
    "        optimizer.step()           # update parameters\n",
    "    print(\"Epoch\", epoch+1, \"\\tLoss:\", loss.item())\n",
    "\n",
    "with torch.no_grad():\n",
    "    output = network(x_test)\n",
    "    test_loss = criterion(output, y_test)\n",
    "    test_accuracy = (output.round() == y_test).float().mean()\n",
    "    print(\"Test Loss:\", test_loss.item(), \"\\tTest Accuracy:\",\n",
    "    test_accuracy.item())"
   ]
  },
  {
   "cell_type": "code",
   "execution_count": 34,
   "id": "f9a31da0",
   "metadata": {},
   "outputs": [
    {
     "name": "stderr",
     "output_type": "stream",
     "text": [
      "/home/hasadi/venv/lib/python3.10/site-packages/torch/_dynamo/utils.py:2753: UserWarning: Implicit dimension choice for softmax has been deprecated. Change the call to include dim=X as an argument.\n",
      "  return fn()\n"
     ]
    },
    {
     "name": "stdout",
     "output_type": "stream",
     "text": [
      "Epoch 1 \tLoss: 0.8022043108940125\n",
      "Epoch 2 \tLoss: 0.775616466999054\n",
      "Epoch 3 \tLoss: 0.7751265168190002\n"
     ]
    },
    {
     "name": "stderr",
     "output_type": "stream",
     "text": [
      "/home/hasadi/venv/lib/python3.10/site-packages/torch/_dynamo/utils.py:2753: UserWarning: Implicit dimension choice for softmax has been deprecated. Change the call to include dim=X as an argument.\n",
      "  return fn()\n"
     ]
    },
    {
     "name": "stdout",
     "output_type": "stream",
     "text": [
      "Test Loss: 0.8105322122573853 \tTest Accuracy: 0.8199999928474426\n"
     ]
    }
   ],
   "source": [
    "# 21.5 Training a Multiclass Classifier\n",
    "import torch\n",
    "import torch.nn as nn\n",
    "import numpy as np\n",
    "from torch.optim import RMSprop\n",
    "from torch.utils.data import DataLoader, TensorDataset\n",
    "from sklearn.datasets import make_classification\n",
    "from sklearn.model_selection import train_test_split\n",
    "\n",
    "EPOCHS = 3\n",
    "N_CLASSES = 3\n",
    "\n",
    "# Create training and test sets\n",
    "features, target = make_classification(n_classes=N_CLASSES,\n",
    "                                       n_informative=9,\n",
    "                                       n_redundant=0,\n",
    "                                         n_features=10,\n",
    "                                           n_samples=1000)\n",
    "features_train, features_test, target_train, target_test = train_test_split(\n",
    "                            features, target, test_size=0.1, random_state=1)\n",
    "\n",
    "# Set random seed\n",
    "torch.manual_seed(0)\n",
    "np.random.seed(0)\n",
    "\n",
    "# Convert data to PyTorch tensors\n",
    "x_train = torch.from_numpy(features_train).float()\n",
    "# y_train = torch.nn.functional.one_hot(torch.from_numpy(target_train).long(),\n",
    "#                                       num_classes=N_CLASSES ).float()\n",
    "y_train = torch.from_numpy(target_train).long()\n",
    "x_test = torch.from_numpy(features_test).float()\n",
    "y_test = torch.nn.functional.one_hot(torch.from_numpy(target_test).long(),\n",
    "                                      num_classes=N_CLASSES ).float()\n",
    "\n",
    "# Define a neural network using `Sequential`\n",
    "class SimpleNeuralNet(nn.Module):\n",
    "    def __init__(self):\n",
    "        super(SimpleNeuralNet, self).__init__()\n",
    "        self.sequentail = torch.nn.Sequential(\n",
    "            torch.nn.Linear(10, 16),\n",
    "            torch.nn.ReLU(),\n",
    "            torch.nn.Linear(16, 16),\n",
    "            torch.nn.ReLU(),\n",
    "            torch.nn.Linear(16, 3),\n",
    "            torch.nn.Softmax()\n",
    "        )\n",
    "\n",
    "    def forward(self, x):\n",
    "        x = self.sequentail(x)\n",
    "        return x\n",
    "    \n",
    "# Initialize neural network\n",
    "network = SimpleNeuralNet()\n",
    "\n",
    "# define loss function, optimizer\n",
    "criterion = nn.CrossEntropyLoss()\n",
    "optimizer = RMSprop(network.parameters())\n",
    "\n",
    "# define data loader\n",
    "train_data = TensorDataset(x_train, y_train)\n",
    "train_loader = DataLoader(train_data, batch_size=100, shuffle=True)\n",
    "\n",
    "# compile the model using torch optimizer\n",
    "network = torch.compile(network)\n",
    "\n",
    "# train neural network\n",
    "for epoch in range(EPOCHS):\n",
    "    for batch_idx, (data, target) in enumerate(train_loader):\n",
    "        optimizer.zero_grad()\n",
    "        output = network(data)\n",
    "        loss = criterion(output, target)\n",
    "        loss.backward()\n",
    "        optimizer.step()\n",
    "    print(\"Epoch\", epoch+1, \"\\tLoss:\", loss.item())\n",
    "\n",
    "# evaluate neuarl network\n",
    "with torch.no_grad():\n",
    "    output = network(x_test)\n",
    "    test_loss = criterion(output, y_test)\n",
    "    test_accuracy = (output.round() == y_test).float().mean()\n",
    "    print(\"Test Loss:\", test_loss.item(), \"\\tTest Accuracy:\",test_accuracy.item())"
   ]
  },
  {
   "cell_type": "code",
   "execution_count": 35,
   "id": "bb73e2d6",
   "metadata": {},
   "outputs": [
    {
     "data": {
      "text/plain": [
       "tensor([0, 1, 0, 0, 0, 2, 1, 2, 1, 2, 1, 0, 1, 1, 1, 2, 2, 2, 2, 1, 0, 2, 2, 0,\n",
       "        0, 1, 1, 1, 1, 1, 0, 1, 0, 1, 0, 2, 2, 2, 2, 1, 0, 1, 1, 0, 0, 1, 1, 2,\n",
       "        1, 2, 0, 2, 0, 0, 2, 0, 1, 1, 0, 1, 1, 2, 2, 1, 0, 1, 0, 0, 1, 2, 2, 0,\n",
       "        2, 2, 2, 0, 2, 0, 1, 0, 2, 0, 2, 2, 1, 0, 1, 1, 0, 1, 0, 2, 0, 1, 2, 2,\n",
       "        0, 1, 2, 2, 2, 1, 1, 2, 0, 0, 1, 1, 1, 0, 2, 1, 0, 0, 0, 1, 0, 0, 2, 2,\n",
       "        0, 0, 1, 0, 2, 1, 2, 2, 2, 2, 1, 0, 1, 2, 0, 1, 0, 0, 1, 1, 1, 1, 1, 1,\n",
       "        1, 1, 1, 2, 0, 2, 1, 0, 2, 0, 2, 2, 1, 1, 2, 1, 1, 2, 0, 0, 1, 0, 0, 1,\n",
       "        1, 1, 2, 0, 2, 0, 2, 2, 0, 1, 0, 1, 0, 1, 0, 2, 0, 2, 2, 0, 0, 2, 1, 1,\n",
       "        2, 1, 0, 1, 0, 1, 1, 1, 0, 1, 2, 0, 2, 1, 1, 2, 0, 2, 1, 1, 1, 1, 2, 0,\n",
       "        1, 0, 1, 1, 1, 1, 1, 1, 0, 0, 2, 1, 0, 2, 1, 2, 2, 1, 1, 1, 1, 0, 2, 2,\n",
       "        1, 1, 0, 2, 1, 2, 0, 0, 2, 1, 2, 2, 0, 1, 1, 2, 2, 0, 2, 0, 2, 2, 1, 1,\n",
       "        0, 1, 2, 1, 2, 1, 0, 0, 1, 2, 2, 2, 1, 2, 1, 0, 0, 1, 1, 2, 2, 1, 0, 0,\n",
       "        1, 1, 0, 1, 0, 0, 1, 2, 2, 0, 0, 1, 2, 0, 0, 2, 2, 0, 1, 2, 0, 2, 0, 0,\n",
       "        0, 1, 2, 1, 1, 1, 2, 0, 0, 1, 1, 2, 1, 1, 0, 2, 1, 2, 2, 0, 2, 0, 0, 0,\n",
       "        1, 1, 1, 2, 2, 1, 2, 1, 1, 0, 2, 2, 1, 0, 1, 0, 1, 0, 0, 0, 0, 1, 0, 0,\n",
       "        1, 2, 0, 0, 0, 0, 2, 0, 2, 2, 2, 0, 2, 0, 1, 1, 2, 1, 0, 1, 2, 1, 2, 0,\n",
       "        0, 2, 2, 1, 1, 2, 2, 2, 0, 0, 0, 0, 1, 0, 1, 0, 2, 0, 1, 2, 1, 2, 0, 2,\n",
       "        0, 2, 0, 1, 1, 0, 0, 0, 2, 2, 2, 1, 2, 1, 1, 0, 2, 0, 0, 1, 1, 2, 1, 1,\n",
       "        0, 1, 0, 1, 2, 2, 2, 2, 0, 0, 1, 0, 1, 2, 2, 2, 1, 1, 2, 1, 2, 1, 1, 0,\n",
       "        2, 1, 2, 1, 1, 1, 0, 1, 1, 1, 2, 2, 0, 0, 1, 0, 0, 2, 2, 2, 2, 0, 0, 2,\n",
       "        2, 1, 2, 1, 2, 2, 2, 1, 1, 0, 0, 2, 2, 2, 2, 2, 0, 1, 2, 1, 2, 0, 2, 2,\n",
       "        0, 2, 0, 1, 2, 1, 0, 2, 0, 1, 2, 2, 0, 0, 0, 2, 2, 2, 0, 2, 2, 2, 1, 0,\n",
       "        1, 0, 0, 2, 2, 2, 0, 2, 2, 2, 2, 2, 1, 1, 0, 0, 1, 0, 2, 2, 2, 0, 2, 2,\n",
       "        1, 0, 2, 1, 2, 1, 1, 1, 0, 1, 0, 1, 2, 2, 0, 2, 0, 1, 0, 0, 1, 2, 2, 2,\n",
       "        2, 0, 1, 1, 2, 0, 1, 2, 0, 2, 1, 2, 2, 0, 1, 0, 2, 2, 2, 0, 1, 2, 1, 2,\n",
       "        0, 1, 0, 1, 2, 0, 0, 1, 1, 2, 0, 0, 0, 0, 0, 1, 1, 0, 2, 2, 1, 1, 0, 0,\n",
       "        1, 2, 1, 2, 0, 2, 0, 2, 2, 2, 2, 1, 0, 0, 0, 0, 1, 0, 1, 1, 1, 2, 1, 2,\n",
       "        1, 1, 2, 0, 1, 0, 1, 0, 2, 1, 1, 1, 0, 1, 0, 0, 1, 1, 0, 0, 1, 2, 1, 0,\n",
       "        2, 1, 2, 0, 1, 0, 0, 0, 2, 1, 0, 2, 0, 0, 2, 1, 2, 1, 0, 0, 1, 0, 1, 0,\n",
       "        0, 0, 1, 2, 1, 2, 2, 2, 1, 1, 2, 2, 0, 2, 0, 1, 0, 0, 1, 1, 0, 0, 2, 2,\n",
       "        2, 0, 1, 2, 2, 2, 2, 1, 0, 0, 1, 1, 2, 1, 0, 1, 0, 1, 2, 0, 0, 2, 1, 2,\n",
       "        1, 1, 2, 1, 0, 1, 1, 1, 1, 2, 2, 2, 1, 0, 0, 2, 1, 1, 1, 2, 2, 2, 2, 1,\n",
       "        2, 2, 2, 2, 0, 1, 0, 1, 1, 0, 0, 1, 2, 0, 0, 2, 0, 1, 2, 2, 0, 1, 1, 0,\n",
       "        2, 1, 2, 1, 1, 1, 2, 2, 0, 0, 0, 2, 0, 1, 2, 1, 0, 2, 2, 1, 1, 0, 0, 0,\n",
       "        0, 1, 2, 2, 2, 1, 1, 2, 1, 1, 1, 1, 2, 2, 1, 0, 0, 1, 2, 2, 0, 2, 0, 0,\n",
       "        0, 1, 0, 0, 2, 2, 0, 1, 0, 0, 2, 0, 2, 0, 2, 0, 0, 0, 2, 1, 0, 1, 0, 2,\n",
       "        1, 0, 2, 0, 2, 1, 1, 1, 2, 1, 1, 1, 2, 1, 2, 1, 0, 2, 0, 2, 2, 2, 2, 0,\n",
       "        0, 0, 0, 0, 0, 0, 2, 2, 0, 1, 0, 2])"
      ]
     },
     "execution_count": 35,
     "metadata": {},
     "output_type": "execute_result"
    }
   ],
   "source": [
    "y_train"
   ]
  },
  {
   "cell_type": "code",
   "execution_count": 36,
   "id": "ee2b62de",
   "metadata": {},
   "outputs": [
    {
     "name": "stdout",
     "output_type": "stream",
     "text": [
      "Epoch: 1 \tLoss: 10764.02734375\n",
      "Epoch: 2 \tLoss: 1356.5101318359375\n",
      "Epoch: 3 \tLoss: 504.96636962890625\n",
      "Epoch: 4 \tLoss: 199.11314392089844\n",
      "Epoch: 5 \tLoss: 191.20834350585938\n",
      "Test MSE 162.24508666992188\n"
     ]
    }
   ],
   "source": [
    "# 21.6 Training a Regressor\n",
    "\n",
    "import torch\n",
    "import torch.nn as nn\n",
    "import numpy as np\n",
    "from torch.utils.data import DataLoader, TensorDataset\n",
    "from torch.optim import RMSprop\n",
    "from sklearn.datasets import make_regression\n",
    "from sklearn.model_selection import train_test_split\n",
    "\n",
    "EPOCHS=5\n",
    "\n",
    "# Create training and test sets\n",
    "features, target = make_regression(n_features=10, n_samples=1000)\n",
    "\n",
    "features_train, features_test, target_train, target_test = train_test_split(\n",
    "                            features, target, test_size=0.1, random_state=1)\n",
    "\n",
    "# Set random seed\n",
    "torch.manual_seed(0)\n",
    "np.random.seed(0)\n",
    "\n",
    "# Convert data to PyTorch tensors\n",
    "x_train = torch.from_numpy(features_train).float()\n",
    "y_train = torch.from_numpy(target_train).float().view(-1,1)\n",
    "x_test = torch.from_numpy(features_test).float()\n",
    "y_test = torch.from_numpy(target_test).float().view(-1,1)\n",
    "\n",
    "class SimpleNeuralNet(nn.Module):\n",
    "    def __init__(self):\n",
    "        super(SimpleNeuralNet, self).__init__()\n",
    "        self.sequential = torch.nn.Sequential(\n",
    "            torch.nn.Linear(10, 16),\n",
    "            torch.nn.ReLU(),\n",
    "            torch.nn.Linear(16, 16),\n",
    "            torch.nn.ReLU(),\n",
    "            torch.nn.Linear(16, 1)\n",
    "        )\n",
    "\n",
    "    def forward(self, x):\n",
    "        x = self.sequential(x)\n",
    "        return x\n",
    "\n",
    "# Initialize neural network\n",
    "network = SimpleNeuralNet()\n",
    "\n",
    "# Define loss function, optimizer\n",
    "criterion = nn.MSELoss()\n",
    "optimizer = RMSprop(network.parameters()) \n",
    "\n",
    "# define data loader\n",
    "train_data = TensorDataset(x_train, y_train)\n",
    "train_loader = DataLoader(train_data, batch_size=100, shuffle=True)\n",
    "\n",
    "# compile the model using torch optimizer\n",
    "network = torch.compile(network)\n",
    "\n",
    "for epoch in range(EPOCHS):\n",
    "    for batch_idx, (data, target) in enumerate(train_loader):\n",
    "        optimizer.zero_grad()\n",
    "        output = network(data)\n",
    "        loss = criterion(output, target)\n",
    "        loss.backward()\n",
    "        optimizer.step()\n",
    "    print(\"Epoch:\", epoch+1, \"\\tLoss:\", loss.item())\n",
    "\n",
    "\n",
    "# evaluate neuarl network\n",
    "with torch.no_grad():\n",
    "    output = network(x_test)\n",
    "    test_loss = float(criterion(output, y_test))\n",
    "    print(\"Test MSE\", test_loss)"
   ]
  },
  {
   "cell_type": "code",
   "execution_count": 9,
   "id": "a9881d27",
   "metadata": {},
   "outputs": [
    {
     "name": "stdout",
     "output_type": "stream",
     "text": [
      "Epoch: 1 \tLoss 0.19006989896297455\n",
      "Epoch: 2 \tLoss 0.14092369377613068\n",
      "Epoch: 3 \tLoss 0.03935524821281433\n"
     ]
    },
    {
     "data": {
      "text/plain": [
       "tensor([1.])"
      ]
     },
     "execution_count": 9,
     "metadata": {},
     "output_type": "execute_result"
    }
   ],
   "source": [
    "# 21.7 Making Predictions\n",
    "\n",
    "import torch\n",
    "import torch.nn as nn\n",
    "import numpy as np\n",
    "from torch.utils.data import DataLoader, TensorDataset\n",
    "from torch.optim import RMSprop\n",
    "from sklearn.datasets import make_classification\n",
    "from sklearn.model_selection import train_test_split\n",
    "\n",
    "# Create training and test sets\n",
    "features, target = make_classification(n_classes=2,\n",
    "                                       n_features=10,\n",
    "                                         n_samples=1000)\n",
    "\n",
    "features_train, features_test, target_train, target_test = train_test_split(\n",
    "                            features, target, test_size=0.1, random_state=1)\n",
    "\n",
    "# Set random seed\n",
    "torch.manual_seed(0)\n",
    "np.random.seed(0)\n",
    "\n",
    "# convert data to pytorch tensors\n",
    "x_train = torch.from_numpy(features_train).float()\n",
    "y_train = torch.from_numpy(target_train).float().view(-1, 1)\n",
    "x_test = torch.from_numpy(features_test).float()\n",
    "y_test = torch.from_numpy(target_test).float().view(-1, 1)\n",
    "\n",
    "# Define a neural network using `Sequential`\n",
    "class SimpleNeuralNet(nn.Module):\n",
    "    def __init__(self):\n",
    "        super(SimpleNeuralNet, self).__init__()\n",
    "        self.sequential = nn.Sequential(\n",
    "            nn.Linear(10, 16),\n",
    "            nn.ReLU(),\n",
    "            nn.Linear(16, 16),\n",
    "            nn.ReLU(),\n",
    "            nn.Linear(16, 1),   \n",
    "            nn.Sigmoid()\n",
    "        )\n",
    "\n",
    "    def forward(self, x):\n",
    "        return self.sequential(x)\n",
    "        return x\n",
    "\n",
    "# Initialize neural network\n",
    "network = SimpleNeuralNet()\n",
    "\n",
    "# define loss function , optimizer\n",
    "criterion = nn.BCELoss()\n",
    "optimizer = RMSprop(network.parameters())\n",
    "\n",
    "# define data loader\n",
    "train_data = TensorDataset(x_train, y_train)\n",
    "train_loader = DataLoader(train_data, batch_size=100, shuffle=True)\n",
    "\n",
    "# compile the model using torch optimizer\n",
    "network = torch.compile(network)\n",
    "\n",
    "# train neural network\n",
    "epochs = 3\n",
    "for epoch in range(epochs):\n",
    "    for batch_idx, (data, target) in enumerate(train_loader):\n",
    "        optimizer.zero_grad()\n",
    "        output = network(data)\n",
    "        loss = criterion(output, target)\n",
    "        loss.backward()\n",
    "        optimizer.step()\n",
    "    print(\"Epoch:\", epoch+1, \"\\tLoss\", loss.item())\n",
    "\n",
    "# evaluate neural network\n",
    "with torch.no_grad():\n",
    "    prediced_class = network.forward(x_train).round()\n",
    "\n",
    "prediced_class[0]"
   ]
  },
  {
   "cell_type": "code",
   "execution_count": null,
   "id": "7395adc3",
   "metadata": {},
   "outputs": [
    {
     "data": {
      "image/png": "[encoded data removed]",
      "text/plain": [
       "<Figure size 640x480 with 1 Axes>"
      ]
     },
     "metadata": {},
     "output_type": "display_data"
    }
   ],
   "source": [
    "# 21.8 Visualize Training History\n",
    "import torch\n",
    "import torch.nn as nn \n",
    "from torch.utils.data import DataLoader, TensorDataset\n",
    "from torch.optim import RMSprop\n",
    "from sklearn.datasets import make_classification\n",
    "from sklearn.model_selection import train_test_split\n",
    "import numpy as np \n",
    "import matplotlib.pyplot as plt\n",
    "\n",
    "# Create training and test sets\n",
    "features, target = make_classification(n_classes=2,\n",
    "                                       n_features=10,\n",
    "                                       n_samples=1000)\n",
    "\n",
    "features_train, features_test, target_train, target_test = train_test_split(\n",
    "                            features, target, test_size=0.1, random_state=1)\n",
    "\n",
    "# Set random seed\n",
    "torch.manual_seed(0)\n",
    "np.random.seed(0)\n",
    "\n",
    "# convert data to pytorch tensors\n",
    "x_train = torch.from_numpy(features_train).float()\n",
    "y_train = torch.from_numpy(target_train).float().view(-1, 1)\n",
    "x_test = torch.from_numpy(features_test).float()\n",
    "y_test = torch.from_numpy(target_test).float().view(-1, 1)\n",
    "\n",
    "# Define a neural network using `Sequential`\n",
    "class SimpleNeuralNet(nn.Module):\n",
    "    def __init__(self):\n",
    "        super(SimpleNeuralNet, self).__init__()\n",
    "        self.sequential = nn.Sequential(\n",
    "            nn.Linear(10, 16),\n",
    "            nn.ReLU(),\n",
    "            nn.Linear(16, 16),\n",
    "            nn.ReLU(),\n",
    "            nn.Linear(16, 1),   \n",
    "            nn.Sigmoid()\n",
    "        )\n",
    "\n",
    "    def forward(self, x):\n",
    "        x = self.sequential(x) \n",
    "        return x\n",
    "\n",
    "# Initialize neural network\n",
    "network = SimpleNeuralNet()\n",
    "\n",
    "# define loss function , optimizer\n",
    "criterion = nn.BCELoss()\n",
    "optimizer = RMSprop(network.parameters())\n",
    "\n",
    "# define data loader\n",
    "train_data = TensorDataset(x_train, y_train)\n",
    "train_loader = DataLoader(train_data, batch_size=100, shuffle=True)\n",
    "\n",
    "# compile the model using torch optimizer\n",
    "network = torch.compile(network)\n",
    "\n",
    "# train neural network\n",
    "epochs = 8\n",
    "train_losses = []\n",
    "test_losses = []\n",
    "\n",
    "for epoch in range(epochs):\n",
    "    for batch_idx, (data, target) in enumerate(train_loader):\n",
    "        optimizer.zero_grad()\n",
    "        output = network(data)\n",
    "        loss = criterion(output, target)\n",
    "        loss.backward()\n",
    "        optimizer.step()\n",
    "    \n",
    "    with torch.no_grad():\n",
    "        # train_output = network(x_train)\n",
    "        train_loss = criterion(output, target)\n",
    "        train_losses.append(train_loss.item())\n",
    "\n",
    "        test_output = network(x_test)\n",
    "        test_loss = criterion(test_output, y_test)\n",
    "        test_losses.append(test_loss.item())\n",
    "\n",
    "# visualize loss history\n",
    "epochs = range(0, epochs)\n",
    "plt.plot(epochs, train_losses, \"y--\")\n",
    "plt.plot(epochs, test_losses, \"g-\")\n",
    "plt.legend([\"Training Loss\", \"Test Loss\"])\n",
    "plt.xlabel(\"Epochs\")\n",
    "plt.ylabel(\"Loss\")\n",
    "plt.show()"
   ]
  },
  {
   "cell_type": "code",
   "execution_count": 2,
   "id": "77e09b87",
   "metadata": {},
   "outputs": [
    {
     "name": "stdout",
     "output_type": "stream",
     "text": [
      "Test LossL 0.40308892726898193 \tTest Sccuracy: 0.9599999785423279\n"
     ]
    }
   ],
   "source": [
    "# 21.9 Reducing Overfitting with Weight Regularization\n",
    "import torch\n",
    "import torch.nn as nn \n",
    "import numpy as np \n",
    "from torch.utils.data import DataLoader, TensorDataset\n",
    "from torch.optim import RMSprop\n",
    "from sklearn.datasets import make_classification\n",
    "from sklearn.model_selection import train_test_split\n",
    "\n",
    "# Create training and test sets\n",
    "features, target = make_classification(n_classes=2,\n",
    "                                       n_features=10,\n",
    "                                       n_samples=1000)\n",
    "\n",
    "features_train, features_test, target_train, target_test = train_test_split(\n",
    "                            features, target, test_size=0.1, random_state=1)\n",
    "\n",
    "# Set random seed\n",
    "torch.manual_seed(0)\n",
    "np.random.seed(0)\n",
    "\n",
    "# convert data to pytorch tensors\n",
    "x_train = torch.from_numpy(features_train).float()\n",
    "y_train = torch.from_numpy(target_train).float().view(-1, 1)\n",
    "x_test = torch.from_numpy(features_test).float()\n",
    "y_test = torch.from_numpy(target_test).float().view(-1, 1)\n",
    "\n",
    "# Define a neural network using `Sequential`\n",
    "class SimpleNeuralNet(nn.Module):\n",
    "    def __init__(self):\n",
    "        super(SimpleNeuralNet, self).__init__()\n",
    "        self.sequential = nn.Sequential(\n",
    "            nn.Linear(10, 16),\n",
    "            nn.ReLU(),\n",
    "            nn.Linear(16, 16),\n",
    "            nn.ReLU(),\n",
    "            nn.Linear(16, 1),   \n",
    "            nn.Sigmoid()\n",
    "        )\n",
    "\n",
    "    def forward(self, x):\n",
    "        x = self.sequential(x)\n",
    "        return x\n",
    "\n",
    "# Initialize neural network\n",
    "network = SimpleNeuralNet()\n",
    "\n",
    "# define loss function , optimizer\n",
    "criterion = nn.BCELoss()\n",
    "optimizer = torch.optim.Adam(network.parameters(), lr=1e-4,\n",
    "                             weight_decay=1e-5)  # add weight regularization\n",
    "\n",
    "# define data loader\n",
    "train_data = TensorDataset(x_train, y_train)\n",
    "train_loader = DataLoader(train_data, batch_size=100, shuffle=True)\n",
    "\n",
    "# compile the model using torch optimizer\n",
    "network = torch.compile(network)\n",
    "\n",
    "# train neural network\n",
    "epochs = 100\n",
    "for epoch in range(epochs):\n",
    "    for  batch_idx, (data, target) in enumerate(train_loader):\n",
    "        optimizer.zero_grad()\n",
    "        output = network(data)\n",
    "        loss = criterion(output, target)\n",
    "        loss.backward()\n",
    "        optimizer.step()\n",
    "\n",
    "# evaluate neuaral network\n",
    "with torch.no_grad():\n",
    "    output = network(x_test)\n",
    "    test_loss = criterion(output, y_test)\n",
    "    test_accuracy = (output.round() == y_test).float().mean()\n",
    "    print(\"Test LossL\", test_loss.item(), \"\\tTest Sccuracy:\", test_accuracy.item())"
   ]
  },
  {
   "cell_type": "code",
   "execution_count": null,
   "id": "ca55229a",
   "metadata": {},
   "outputs": [],
   "source": [
    "# 21.10 Reducing Overfitting with Early Stopping\n"
   ]
  }
 ],
 "metadata": {
  "kernelspec": {
   "display_name": "venv",
   "language": "python",
   "name": "python3"
  },
  "language_info": {
   "codemirror_mode": {
    "name": "ipython",
    "version": 3
   },
   "file_extension": ".py",
   "mimetype": "text/x-python",
   "name": "python",
   "nbconvert_exporter": "python",
   "pygments_lexer": "ipython3",
   "version": "3.10.18"
  }
 },
 "nbformat": 4,
 "nbformat_minor": 5
}
