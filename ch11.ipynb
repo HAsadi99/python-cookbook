{
 "cells": [
  {
   "cell_type": "code",
   "execution_count": null,
   "id": "c64d35e5",
   "metadata": {},
   "outputs": [],
   "source": [
    "# Chapter 11. Model Evaluation"
   ]
  },
  {
   "cell_type": "code",
   "execution_count": 1,
   "id": "482f34f9",
   "metadata": {},
   "outputs": [
    {
     "data": {
      "text/plain": [
       "np.float64(0.9677329000309502)"
      ]
     },
     "execution_count": 1,
     "metadata": {},
     "output_type": "execute_result"
    }
   ],
   "source": [
    "# 11.1 Cross-Validating Models\n",
    "from sklearn import datasets\n",
    "from sklearn import metrics\n",
    "from sklearn.model_selection import KFold, cross_val_score\n",
    "from sklearn.pipeline import make_pipeline\n",
    "from sklearn.linear_model import LogisticRegression\n",
    "from sklearn.preprocessing import StandardScaler\n",
    "\n",
    "\n",
    "# load digits datasets\n",
    "digits = datasets.load_digits()\n",
    "\n",
    "# create feature and target matrix\n",
    "features = digits.data\n",
    "target = digits.target\n",
    "\n",
    "# create scandalizer\n",
    "standardizer = StandardScaler()\n",
    "\n",
    "# create logistic regression object\n",
    "logit = LogisticRegression()\n",
    "\n",
    "# create a pipeline than standardizes , then runs logistic regression\n",
    "pipeline = make_pipeline(standardizer, logit)\n",
    "\n",
    "# create k fold cross validation\n",
    "kf = KFold(n_splits=5, shuffle=True, random_state=0)\n",
    "\n",
    "# conduct k fold cross validation\n",
    "cv_results = cross_val_score(pipeline,\n",
    "                             features,\n",
    "                             target,\n",
    "                             cv=kf,              # performance metric\n",
    "                             scoring=\"accuracy\", # loss function\n",
    "                             n_jobs=-1)         # use all cpu cores\n",
    "\n",
    "cv_results.mean()"
   ]
  },
  {
   "cell_type": "code",
   "execution_count": 2,
   "id": "d776dead",
   "metadata": {},
   "outputs": [
    {
     "data": {
      "text/plain": [
       "array([0.96111111, 0.95833333, 0.97771588, 0.96935933, 0.97214485])"
      ]
     },
     "execution_count": 2,
     "metadata": {},
     "output_type": "execute_result"
    }
   ],
   "source": [
    "cv_results"
   ]
  },
  {
   "cell_type": "code",
   "execution_count": null,
   "id": "28af6fd0",
   "metadata": {},
   "outputs": [],
   "source": [
    "# diffrence between tain test and k fold cross validation\n",
    "from sklearn.model_selection import train_test_split\n",
    "\n",
    "# create training and test sets\n",
    "features_train, features_test, target_train, target_test = train_test_split(features,\n",
    "                                                                             target,\n",
    "                                                                             test_size=0.1,\n",
    "                                                                             random_state=1)\n",
    "\n",
    "# fit standardizer tp training set\n",
    "standardizer.fit(features_train)\n",
    "\n",
    "features_train_std = standardizer.transform(features_train)\n",
    "features_test_std = standardizer.transform(features_test)\n",
    "\n",
    "# -----------------------------------------------------------------\n",
    "# create a pipeline\n",
    "pipeline = make_pipeline(standardizer, logit)\n",
    "\n",
    "# do k fold cross validation\n",
    "cv_results = cross_val_score(pipeline,\n",
    "                             features,\n",
    "                             target,\n",
    "                             cv=kf,\n",
    "                             scoring=\"accuracy\",\n",
    "                             n_jobs=-1)"
   ]
  },
  {
   "cell_type": "code",
   "execution_count": 8,
   "id": "c947ec62",
   "metadata": {},
   "outputs": [
    {
     "data": {
      "text/plain": [
       "-0.0480213580840978"
      ]
     },
     "execution_count": 8,
     "metadata": {},
     "output_type": "execute_result"
    }
   ],
   "source": [
    "# 11.2 Creating a Baseline Regression Model\n",
    "from sklearn.datasets import load_wine\n",
    "from sklearn.dummy import DummyRegressor\n",
    "from sklearn.model_selection import train_test_split\n",
    "\n",
    "wine = load_wine()\n",
    "\n",
    "features, target = wine.data, wine.target\n",
    "features_train, features_test, target_train, target_test = train_test_split(features,\n",
    "                                                                            target,\n",
    "                                                                            random_state=0)\n",
    "\n",
    "# create a dummy regressor\n",
    "dummy = DummyRegressor(strategy='mean')\n",
    "\n",
    "# train dummy regressor\n",
    "dummy.fit(features_train, target_train)\n",
    "\n",
    "# get r squared error\n",
    "dummy.score(features_test, target_test)"
   ]
  },
  {
   "cell_type": "code",
   "execution_count": 9,
   "id": "77e58fc9",
   "metadata": {},
   "outputs": [
    {
     "data": {
      "text/plain": [
       "0.8043532631769537"
      ]
     },
     "execution_count": 9,
     "metadata": {},
     "output_type": "execute_result"
    }
   ],
   "source": [
    "from sklearn.linear_model import LinearRegression\n",
    "\n",
    "# train simple linear regression\n",
    "ols = LinearRegression()\n",
    "ols.fit(features_train, target_train)\n",
    "\n",
    "ols.score(features_test, target_test)"
   ]
  },
  {
   "cell_type": "code",
   "execution_count": null,
   "id": "74a78375",
   "metadata": {},
   "outputs": [
    {
     "data": {
      "text/plain": [
       "-0.06299212598425186"
      ]
     },
     "execution_count": 10,
     "metadata": {},
     "output_type": "execute_result"
    }
   ],
   "source": [
    "# create dummy regressor that predict 1s for everything\n",
    " \n",
    "clf = DummyRegressor(strategy='constant', constant=1)\n",
    "\n",
    "clf.fit(features_train, target_train) \n",
    "clf.score(features_test, target_test)"
   ]
  },
  {
   "cell_type": "code",
   "execution_count": 11,
   "id": "e16158b2",
   "metadata": {},
   "outputs": [
    {
     "data": {
      "text/plain": [
       "0.42105263157894735"
      ]
     },
     "execution_count": 11,
     "metadata": {},
     "output_type": "execute_result"
    }
   ],
   "source": [
    "# 11.3 Creating a Baseline Classification Model\n",
    "\n",
    "from sklearn.datasets import load_iris\n",
    "from sklearn.dummy import DummyClassifier\n",
    "from sklearn.model_selection import train_test_split\n",
    "\n",
    "iris = load_iris()\n",
    "\n",
    "features, target = iris.data, iris.target\n",
    "\n",
    "# split into tain and test sets\n",
    "features_train, features_test, target_train, target_test = train_test_split(features,\n",
    "                                                                            target,\n",
    "                                                                            random_state=0)\n",
    "dummy = DummyClassifier(strategy='uniform', random_state=1)\n",
    "\n",
    "# train model\n",
    "dummy.fit(features_train, target_train)\n",
    "\n",
    "# get accuracy score\n",
    "dummy.score(features_test, target_test)\n"
   ]
  },
  {
   "cell_type": "code",
   "execution_count": 12,
   "id": "4c43a4b7",
   "metadata": {},
   "outputs": [
    {
     "data": {
      "text/plain": [
       "0.9736842105263158"
      ]
     },
     "execution_count": 12,
     "metadata": {},
     "output_type": "execute_result"
    }
   ],
   "source": [
    "from sklearn.ensemble import RandomForestClassifier\n",
    "\n",
    "classifier = RandomForestClassifier()\n",
    "\n",
    "# train model\n",
    "classifier.fit(features_train, target_train)\n",
    "\n",
    "# get accuracy score\n",
    "classifier.score(features_test, target_test)"
   ]
  },
  {
   "cell_type": "code",
   "execution_count": 19,
   "id": "dba983de",
   "metadata": {},
   "outputs": [
    {
     "data": {
      "text/plain": [
       "array([0.9555, 0.95  , 0.9585, 0.9555, 0.956 ])"
      ]
     },
     "execution_count": 19,
     "metadata": {},
     "output_type": "execute_result"
    }
   ],
   "source": [
    "# 11.4 Evaluating Binary Classifier Predictions\n",
    "from sklearn.model_selection import cross_val_score\n",
    "from sklearn.linear_model import LogisticRegression\n",
    "from sklearn.datasets import make_classification\n",
    "\n",
    "X, y = make_classification(n_samples=10000,\n",
    "                           n_features=3,\n",
    "                           n_informative=3,\n",
    "                           n_redundant=0,\n",
    "                           n_classes= 2,\n",
    "                           random_state=1)\n",
    "\n",
    "# create logistic regression\n",
    "logit = LogisticRegression()\n",
    "\n",
    "# cross validate model using accuracy\n",
    "cross_val_score(logit, X, y, scoring='accuracy')\n"
   ]
  },
  {
   "cell_type": "code",
   "execution_count": 21,
   "id": "be729711",
   "metadata": {},
   "outputs": [
    {
     "data": {
      "text/plain": [
       "array([0.95963673, 0.94820717, 0.9635996 , 0.96149949, 0.96060606])"
      ]
     },
     "execution_count": 21,
     "metadata": {},
     "output_type": "execute_result"
    }
   ],
   "source": [
    "cross_val_score(logit, X, y, scoring='precision')"
   ]
  },
  {
   "cell_type": "code",
   "execution_count": 22,
   "id": "e3b41652",
   "metadata": {},
   "outputs": [
    {
     "data": {
      "text/plain": [
       "array([0.951, 0.952, 0.953, 0.949, 0.951])"
      ]
     },
     "execution_count": 22,
     "metadata": {},
     "output_type": "execute_result"
    }
   ],
   "source": [
    "cross_val_score(logit, X, y, scoring='recall')"
   ]
  },
  {
   "cell_type": "code",
   "execution_count": 23,
   "id": "319a78b6",
   "metadata": {},
   "outputs": [
    {
     "data": {
      "text/plain": [
       "array([0.95529884, 0.9500998 , 0.95827049, 0.95520886, 0.95577889])"
      ]
     },
     "execution_count": 23,
     "metadata": {},
     "output_type": "execute_result"
    }
   ],
   "source": [
    "cross_val_score(logit, X, y, scoring='f1')"
   ]
  },
  {
   "cell_type": "code",
   "execution_count": null,
   "id": "419b5a7a",
   "metadata": {},
   "outputs": [
    {
     "data": {
      "text/plain": [
       "0.947"
      ]
     },
     "execution_count": 24,
     "metadata": {},
     "output_type": "execute_result"
    }
   ],
   "source": [
    "from sklearn.model_selection import train_test_split\n",
    "from sklearn.metrics import accuracy_score\n",
    "\n",
    "X_train, X_test, y_train, y_test = train_test_split(X,\n",
    "                                                    y,\n",
    "                                                    test_size=0.1,\n",
    "                                                    random_state=1)\n",
    "\n",
    "# Predict values for training target vector\n",
    "y_hat = logit.fit(X_train, y_train).predict(X_test)\n",
    "\n",
    "accuracy_score(y_test, y_hat)"
   ]
  },
  {
   "cell_type": "code",
   "execution_count": 40,
   "id": "ce045ee4",
   "metadata": {},
   "outputs": [
    {
     "data": {
      "image/png": "[encoded data removed]",
      "text/plain": [
       "<Figure size 640x480 with 1 Axes>"
      ]
     },
     "metadata": {},
     "output_type": "display_data"
    }
   ],
   "source": [
    "# 11.5 Evaluating Binary Classifier Thresholds\n",
    "import matplotlib.pyplot as plt\n",
    "from sklearn.datasets import make_classification\n",
    "from sklearn.linear_model import LogisticRegression\n",
    "from sklearn.metrics import roc_curve, roc_auc_score\n",
    "from sklearn.model_selection import train_test_split\n",
    "\n",
    "features, target = make_classification(n_samples=10000,\n",
    "                                       n_features=10,\n",
    "                                       n_classes=2,\n",
    "                                       n_informative=3,\n",
    "                                       random_state=3)\n",
    "\n",
    "# split into tain and test set\n",
    "features_train, features_test, target_train, target_test = train_test_split(features,\n",
    "                                                                            target,\n",
    "                                                                            test_size=0.1,\n",
    "                                                                            random_state=1)\n",
    "# create classifier\n",
    "logit = LogisticRegression()\n",
    "\n",
    "# train mode\n",
    "logit.fit(features_train, target_train)\n",
    "\n",
    "# get predicted probabilities\n",
    "target_probabilities = logit.predict_proba(features_test)[:,1]\n",
    "\n",
    "# create true and false positive rates\n",
    "false_positive_rate, true_positive_rate, threshold = roc_curve(target_test, target_probabilities)\n",
    "\n",
    "# plot ROC curve\n",
    "plt.title(\"receiver operating characteristics\")\n",
    "plt.plot(false_positive_rate, true_positive_rate)\n",
    "plt.plot([0,1], ls=\"--\")\n",
    "plt.plot([0,0], [1,0], c=\".7\")\n",
    "plt.plot([1,1], c=\".7\")\n",
    "plt.ylabel(\"True Positive Rate\")\n",
    "plt.xlabel(\"False Positive Rate\")\n",
    "plt.show()\n"
   ]
  },
  {
   "cell_type": "code",
   "execution_count": 41,
   "id": "0388b611",
   "metadata": {},
   "outputs": [
    {
     "data": {
      "text/plain": [
       "array([[0.8689235, 0.1310765]])"
      ]
     },
     "execution_count": 41,
     "metadata": {},
     "output_type": "execute_result"
    }
   ],
   "source": [
    "logit.predict_proba(features_test)[0:1]"
   ]
  },
  {
   "cell_type": "code",
   "execution_count": 42,
   "id": "4e46ed2c",
   "metadata": {},
   "outputs": [
    {
     "data": {
      "text/plain": [
       "array([0, 1])"
      ]
     },
     "execution_count": 42,
     "metadata": {},
     "output_type": "execute_result"
    }
   ],
   "source": [
    "logit.classes_"
   ]
  },
  {
   "cell_type": "code",
   "execution_count": 43,
   "id": "6ccd730c",
   "metadata": {},
   "outputs": [
    {
     "name": "stdout",
     "output_type": "stream",
     "text": [
      "Threshold: 0.4981509475208573\n",
      "True Positive Rate: 0.8367346938775511\n",
      "False Positive Rate: 0.1627450980392157\n"
     ]
    }
   ],
   "source": [
    "print(\"Threshold:\", threshold[124])\n",
    "print(\"True Positive Rate:\", true_positive_rate[124])\n",
    "print(\"False Positive Rate:\", false_positive_rate[124])"
   ]
  },
  {
   "cell_type": "code",
   "execution_count": 45,
   "id": "fb9d35e0",
   "metadata": {},
   "outputs": [
    {
     "name": "stdout",
     "output_type": "stream",
     "text": [
      "Threshold: 0.8058635463651345\n",
      "True Positive Rate: 0.5653061224489796\n",
      "False Positive Rate: 0.052941176470588235\n"
     ]
    }
   ],
   "source": [
    "print(\"Threshold:\", threshold[49])\n",
    "print(\"True Positive Rate:\", true_positive_rate[49])\n",
    "print(\"False Positive Rate:\", false_positive_rate[49])"
   ]
  },
  {
   "cell_type": "code",
   "execution_count": 1,
   "id": "aa951e48",
   "metadata": {},
   "outputs": [
    {
     "data": {
      "text/plain": [
       "array([0.8405, 0.829 , 0.827 , 0.8155, 0.8205])"
      ]
     },
     "execution_count": 1,
     "metadata": {},
     "output_type": "execute_result"
    }
   ],
   "source": [
    "# 11.6 Evaluating Multiclass Classifier Predictions\n",
    "from sklearn.model_selection import cross_val_score\n",
    "from sklearn.linear_model import LogisticRegression\n",
    "from sklearn.datasets import make_classification\n",
    "\n",
    "features, target = make_classification(n_samples=10000,\n",
    "                                       n_features=3,\n",
    "                                       n_informative=3,\n",
    "                                       n_redundant= 0,\n",
    "                                       n_classes= 3,\n",
    "                                       random_state=1)\n",
    "logit = LogisticRegression()\n",
    "\n",
    "cross_val_score(logit,features, target, scoring='accuracy')"
   ]
  },
  {
   "cell_type": "code",
   "execution_count": 2,
   "id": "94d9abda",
   "metadata": {},
   "outputs": [
    {
     "data": {
      "text/plain": [
       "array([0.84012014, 0.82895312, 0.82675308, 0.81515121, 0.82042629])"
      ]
     },
     "execution_count": 2,
     "metadata": {},
     "output_type": "execute_result"
    }
   ],
   "source": [
    "cross_val_score(logit, features, target, scoring='f1_macro')"
   ]
  },
  {
   "cell_type": "code",
   "execution_count": 4,
   "id": "a36de33f",
   "metadata": {},
   "outputs": [
    {
     "data": {
      "text/plain": [
       "array([0.84013913, 0.8289688 , 0.82680304, 0.8151928 , 0.82048321])"
      ]
     },
     "execution_count": 4,
     "metadata": {},
     "output_type": "execute_result"
    }
   ],
   "source": [
    "cross_val_score(logit, features, target, scoring='f1_weighted')"
   ]
  },
  {
   "cell_type": "code",
   "execution_count": 5,
   "id": "ea9ae855",
   "metadata": {},
   "outputs": [
    {
     "data": {
      "text/plain": [
       "array([0.8405, 0.829 , 0.827 , 0.8155, 0.8205])"
      ]
     },
     "execution_count": 5,
     "metadata": {},
     "output_type": "execute_result"
    }
   ],
   "source": [
    "cross_val_score(logit, features, target, scoring='f1_micro')"
   ]
  },
  {
   "cell_type": "code",
   "execution_count": 10,
   "id": "53c02427",
   "metadata": {},
   "outputs": [
    {
     "data": {
      "image/png": "[encoded data removed]",
      "text/plain": [
       "<Figure size 640x480 with 1 Axes>"
      ]
     },
     "metadata": {},
     "output_type": "display_data"
    }
   ],
   "source": [
    "# 11.7 Visualizing a Classifier’s Performance\n",
    "import matplotlib.pyplot as plt\n",
    "import seaborn as sns\n",
    "from sklearn import datasets\n",
    "from sklearn.linear_model import LogisticRegression\n",
    "from sklearn.model_selection import train_test_split\n",
    "from sklearn.metrics import confusion_matrix\n",
    "import pandas as pd\n",
    "\n",
    "iris = datasets.load_iris()\n",
    "\n",
    "features, target = iris.data, iris.target\n",
    "\n",
    "# create a list of target class name\n",
    "class_names = iris.target_names\n",
    "\n",
    "features_train, features_test, target_train, target_test = train_test_split(\n",
    "    features, target, random_state=2)\n",
    "\n",
    "# create a logistic regression\n",
    "classifier = LogisticRegression()\n",
    "\n",
    "# train model and make predictions\n",
    "target_predicted = classifier.fit(features_train, target_train).predict(features_test)\n",
    "\n",
    "# create confusion matrix\n",
    "matrix = confusion_matrix(target_test, target_predicted)\n",
    "\n",
    "# create pandas dataframe\n",
    "df = pd.DataFrame(matrix, index=class_names, columns=class_names)\n",
    "\n",
    "sns.heatmap(df, annot=True, cbar=None, cmap=\"Blues\")\n",
    "plt.title(\"confusion matrix\")\n",
    "plt.tight_layout()\n",
    "plt.ylabel(\"True Class\")\n",
    "plt.xlabel(\"Predicted Class\")\n",
    "plt.show()"
   ]
  },
  {
   "cell_type": "code",
   "execution_count": 11,
   "id": "47af501d",
   "metadata": {},
   "outputs": [
    {
     "data": {
      "text/html": [
       "<div>\n",
       "<style scoped>\n",
       "    .dataframe tbody tr th:only-of-type {\n",
       "        vertical-align: middle;\n",
       "    }\n",
       "\n",
       "    .dataframe tbody tr th {\n",
       "        vertical-align: top;\n",
       "    }\n",
       "\n",
       "    .dataframe thead th {\n",
       "        text-align: right;\n",
       "    }\n",
       "</style>\n",
       "<table border=\"1\" class=\"dataframe\">\n",
       "  <thead>\n",
       "    <tr style=\"text-align: right;\">\n",
       "      <th></th>\n",
       "      <th>setosa</th>\n",
       "      <th>versicolor</th>\n",
       "      <th>virginica</th>\n",
       "    </tr>\n",
       "  </thead>\n",
       "  <tbody>\n",
       "    <tr>\n",
       "      <th>setosa</th>\n",
       "      <td>16</td>\n",
       "      <td>0</td>\n",
       "      <td>0</td>\n",
       "    </tr>\n",
       "    <tr>\n",
       "      <th>versicolor</th>\n",
       "      <td>0</td>\n",
       "      <td>10</td>\n",
       "      <td>1</td>\n",
       "    </tr>\n",
       "    <tr>\n",
       "      <th>virginica</th>\n",
       "      <td>0</td>\n",
       "      <td>0</td>\n",
       "      <td>11</td>\n",
       "    </tr>\n",
       "  </tbody>\n",
       "</table>\n",
       "</div>"
      ],
      "text/plain": [
       "            setosa  versicolor  virginica\n",
       "setosa          16           0          0\n",
       "versicolor       0          10          1\n",
       "virginica        0           0         11"
      ]
     },
     "execution_count": 11,
     "metadata": {},
     "output_type": "execute_result"
    }
   ],
   "source": [
    "df"
   ]
  },
  {
   "cell_type": "code",
   "execution_count": 13,
   "id": "ce2c4680",
   "metadata": {},
   "outputs": [
    {
     "data": {
      "text/plain": [
       "array([-1974.65337976, -2004.54137625, -3935.19355723, -1060.04361386,\n",
       "       -1598.74104702])"
      ]
     },
     "execution_count": 13,
     "metadata": {},
     "output_type": "execute_result"
    }
   ],
   "source": [
    "# 11.8 Evaluating Regression Models\n",
    "\n",
    "from sklearn.datasets import make_regression\n",
    "from sklearn.model_selection import cross_val_predict\n",
    "from sklearn.linear_model import LinearRegression\n",
    "\n",
    "features, target = make_regression(n_samples=100,\n",
    "                                   n_features=3,\n",
    "                                   n_informative=3,\n",
    "                                   n_targets=1,\n",
    "                                   noise= 50,\n",
    "                                   coef = False,\n",
    "                                   random_state=1)\n",
    "\n",
    "# create a linear regression\n",
    "ols = LinearRegression()\n",
    "\n",
    "cross_val_score(ols, features, target, scoring='neg_mean_squared_error')"
   ]
  },
  {
   "cell_type": "code",
   "execution_count": 15,
   "id": "b2f37157",
   "metadata": {},
   "outputs": [
    {
     "data": {
      "text/plain": [
       "array([0.8622399 , 0.85838075, 0.74723548, 0.91354743, 0.84469331])"
      ]
     },
     "execution_count": 15,
     "metadata": {},
     "output_type": "execute_result"
    }
   ],
   "source": [
    "cross_val_score(ols, features, target, scoring='r2')"
   ]
  },
  {
   "cell_type": "code",
   "execution_count": 6,
   "id": "8f4c6b30",
   "metadata": {},
   "outputs": [
    {
     "data": {
      "text/plain": [
       "0.8916265564072141"
      ]
     },
     "execution_count": 6,
     "metadata": {},
     "output_type": "execute_result"
    }
   ],
   "source": [
    "# 11.9 Evaluating Clustering Models\n",
    "import numpy as np\n",
    "from sklearn.metrics import silhouette_score\n",
    "from sklearn.cluster import KMeans\n",
    "from sklearn.datasets import make_blobs\n",
    "\n",
    "features, _ = make_blobs(n_samples=1000,\n",
    "                         n_features=10,\n",
    "                         centers=2,\n",
    "                         cluster_std=0.5,\n",
    "                         shuffle=True,\n",
    "                         random_state=1)\n",
    "\n",
    "# cluster data using k means to predict classes\n",
    "model = KMeans(n_clusters = 2, random_state=1).fit(features)\n",
    "\n",
    "# get predicted classes\n",
    "target_predicted = model.labels_\n",
    "\n",
    "# evaluate model\n",
    "silhouette_score(features, target_predicted)"
   ]
  },
  {
   "cell_type": "code",
   "execution_count": 9,
   "id": "39cba421",
   "metadata": {},
   "outputs": [
    {
     "data": {
      "text/plain": [
       "0.9997906102882058"
      ]
     },
     "execution_count": 9,
     "metadata": {},
     "output_type": "execute_result"
    }
   ],
   "source": [
    "# 11.10 Creating a Custom Evaluation Metric\n",
    "from sklearn.metrics import make_scorer, r2_score\n",
    "from sklearn.model_selection import train_test_split\n",
    "from sklearn.linear_model import Ridge\n",
    "from sklearn.datasets import make_regression\n",
    "\n",
    "features, target = make_regression(n_samples=100,\n",
    "                                   n_features=3,\n",
    "                                   random_state=1)\n",
    "\n",
    "features_train, features_test, target_train, target_test = train_test_split(\n",
    "    features, target,test_size=0.10, random_state=1)\n",
    "\n",
    "# create custom metric\n",
    "def custom_metric(target_test, target_predicted):\n",
    "    # calculate E2 square error\n",
    "    r2 = r2_score(target_test, target_predicted)\n",
    "    \n",
    "    return r2\n",
    "\n",
    "# Make scorer and define that higher scores are better\n",
    "score = make_scorer(custom_metric, greater_is_better=True)\n",
    "\n",
    "# create ridge regression object\n",
    "classifier = Ridge()\n",
    "\n",
    "# train ridge regression model\n",
    "model = classifier.fit(features_train, target_train)\n",
    "\n",
    "score(model, features_test, target_test)"
   ]
  },
  {
   "cell_type": "code",
   "execution_count": 8,
   "id": "31fe415d",
   "metadata": {},
   "outputs": [
    {
     "data": {
      "text/plain": [
       "0.9997906102882058"
      ]
     },
     "execution_count": 8,
     "metadata": {},
     "output_type": "execute_result"
    }
   ],
   "source": [
    "# predict values\n",
    "target_predicted = model.predict(features_test)\n",
    "\n",
    "r2_score(target_test, target_predicted)"
   ]
  },
  {
   "cell_type": "code",
   "execution_count": 21,
   "id": "f6b6c57a",
   "metadata": {},
   "outputs": [
    {
     "data": {
      "image/png": "[encoded data removed]",
      "text/plain": [
       "<Figure size 640x480 with 1 Axes>"
      ]
     },
     "metadata": {},
     "output_type": "display_data"
    }
   ],
   "source": [
    "# 11.11 Visualizing the Effect of Training Set Size\n",
    "import numpy as np\n",
    "import matplotlib.pyplot as plt\n",
    "from sklearn.ensemble import RandomForestClassifier\n",
    "from sklearn.datasets import load_digits\n",
    "from sklearn.model_selection import learning_curve\n",
    "\n",
    "digits = load_digits()\n",
    "\n",
    "features, target = digits.data, digits.target\n",
    "\n",
    "# Create CV training and test scores for various training set sizes\n",
    "train_sizes, train_scores, test_scores = learning_curve(RandomForestClassifier(),\n",
    "                                                        features,\n",
    "                                                        target,\n",
    "                                                        cv=10,      #  number of folds\n",
    "                                                        scoring='accuracy',\n",
    "                                                        n_jobs= -1,\n",
    "                                                        train_sizes=np.linspace(0.01,1.0,50)) # training set\n",
    "\n",
    "# Create means and standard deviations of training set scores\n",
    "train_mean = np.mean(train_scores, axis=1)\n",
    "train_std = np.std(train_scores, axis=1)\n",
    "\n",
    "# Create means and standard deviations of test set scores\n",
    "test_mean = np.mean(test_scores, axis=1)\n",
    "test_std = np.std(test_scores, axis=1)\n",
    "\n",
    "# Draw lines\n",
    "plt.plot(train_sizes, train_mean, '--', color=\"#111111\", label=\"training score\")\n",
    "plt.plot(train_sizes, test_mean, color=\"#111111\", label=\"cross-validation score\")\n",
    "\n",
    "# Draw bands\n",
    "plt.fill_between(train_sizes, train_mean - train_std, train_mean + train_std, color=\"#DDDDDD\")\n",
    "plt.fill_between(train_sizes, test_mean - test_std, test_mean + test_std, color=\"#DDDDDD\")\n",
    "\n",
    "# create plot\n",
    "plt.title(\"learning curve\")\n",
    "plt.xlabel(\"training set size\")\n",
    "plt.ylabel(\"Accuracy score\")\n",
    "plt.legend(loc=\"best\")\n",
    "plt.tight_layout()\n",
    "plt.show()"
   ]
  },
  {
   "cell_type": "code",
   "execution_count": 15,
   "id": "912ce039",
   "metadata": {},
   "outputs": [
    {
     "name": "stdout",
     "output_type": "stream",
     "text": [
      "              precision    recall  f1-score   support\n",
      "\n",
      "      setosa       1.00      1.00      1.00        13\n",
      "  versicolor       1.00      0.94      0.97        16\n",
      "   virginica       0.90      1.00      0.95         9\n",
      "\n",
      "    accuracy                           0.97        38\n",
      "   macro avg       0.97      0.98      0.97        38\n",
      "weighted avg       0.98      0.97      0.97        38\n",
      "\n"
     ]
    }
   ],
   "source": [
    "# 11.12 Creating a Text Report of Evaluation Metrics\n",
    "\n",
    "from sklearn import datasets\n",
    "from sklearn.linear_model import LogisticRegression\n",
    "from sklearn.model_selection import train_test_split\n",
    "from sklearn.metrics import classification_report\n",
    "\n",
    "iris = datasets.load_iris()\n",
    "\n",
    "features, target = iris.data , iris.target\n",
    "\n",
    "class_names = iris.target_names\n",
    "\n",
    "features_train, features_test, target_train, target_test = train_test_split(\n",
    "    features, target, random_state=0)\n",
    "\n",
    "# create logistic regression\n",
    "classifier = LogisticRegression()\n",
    "\n",
    "# train model and predict\n",
    "model = classifier.fit(features_train, target_train)\n",
    "target_predicted = model.predict(features_test)\n",
    "\n",
    "# create a classification report\n",
    "print(classification_report(target_test, target_predicted, target_names=class_names))"
   ]
  },
  {
   "cell_type": "code",
   "execution_count": 20,
   "id": "cc2f33b7",
   "metadata": {},
   "outputs": [
    {
     "data": {
      "image/png": "[encoded data removed]",
      "text/plain": [
       "<Figure size 640x480 with 1 Axes>"
      ]
     },
     "metadata": {},
     "output_type": "display_data"
    }
   ],
   "source": [
    "# 11.13 Visualizing the Effect of Hyperparameter Values\n",
    "import matplotlib.pyplot as plt\n",
    "import numpy as np\n",
    "from sklearn.datasets import load_digits\n",
    "from sklearn.ensemble import RandomForestClassifier\n",
    "from sklearn.model_selection import validation_curve\n",
    "\n",
    "digits = load_digits()\n",
    "\n",
    "features, target = digits.data, digits.target\n",
    "\n",
    "# Create range of values for parameter\n",
    "param_range = np.arange(1, 250, 2)\n",
    "\n",
    "# create accuracy on training and test set using range of parameter values\n",
    "train_scores, test_scores = validation_curve(RandomForestClassifier(),\n",
    "                                             features,\n",
    "                                             target,\n",
    "                                             param_name='n_estimators', # hyperparameter to examine\n",
    "                                             param_range=param_range,\n",
    "                                             cv=3,\n",
    "                                             scoring='accuracy',\n",
    "                                             n_jobs=-1)\n",
    "\n",
    "# Calculate mean and standard deviation for training set scores\n",
    "train_mean = np.mean(train_scores, axis=1)\n",
    "train_std =np.std(train_scores, axis=1)\n",
    "\n",
    "# Calculate mean and standard deviation for test set scores\n",
    "test_mean = np.mean(test_scores, axis=1)\n",
    "test_std =np.std(test_scores, axis=1)\n",
    "\n",
    "# Plot mean accuracy scores for training and test sets\n",
    "plt.plot(param_range, train_mean, label=\"training score\", color=\"black\")\n",
    "plt.plot(param_range, test_mean, label=\"cross validation score\", color=\"dimgrey\")\n",
    "\n",
    "# plot accuracy bans for training and test sets\n",
    "plt.fill_between(param_range, train_mean - train_std, train_mean + train_std, color =\"gray\")\n",
    "plt.fill_between(param_range, test_mean - test_std, test_mean + test_std, color=\"gainsboro\")\n",
    "\n",
    "plt.title(\"validation curve with randon forest\")\n",
    "plt.xlabel(\"number of trees\")\n",
    "plt.ylabel(\"accuracy score\")\n",
    "plt.tight_layout()\n",
    "plt.legend(loc=\"best\")\n",
    "plt.show()"
   ]
  },
  {
   "cell_type": "code",
   "execution_count": null,
   "id": "bd9c91a6",
   "metadata": {},
   "outputs": [],
   "source": []
  }
 ],
 "metadata": {
  "kernelspec": {
   "display_name": "myenv310",
   "language": "python",
   "name": "python3"
  },
  "language_info": {
   "codemirror_mode": {
    "name": "ipython",
    "version": 3
   },
   "file_extension": ".py",
   "mimetype": "text/x-python",
   "name": "python",
   "nbconvert_exporter": "python",
   "pygments_lexer": "ipython3",
   "version": "3.10.18"
  }
 },
 "nbformat": 4,
 "nbformat_minor": 5
}
