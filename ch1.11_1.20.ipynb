{
 "cells": [
  {
   "cell_type": "code",
   "execution_count": 1,
   "id": "778722ab",
   "metadata": {},
   "outputs": [],
   "source": [
    "import numpy as np"
   ]
  },
  {
   "cell_type": "code",
   "execution_count": 2,
   "id": "8a098bff",
   "metadata": {},
   "outputs": [
    {
     "name": "stdout",
     "output_type": "stream",
     "text": [
      "[[1 4 7]\n",
      " [2 5 8]\n",
      " [3 6 9]]\n",
      "[1 2 3 4 5]\n",
      "[[1]\n",
      " [2]\n",
      " [3]\n",
      " [4]\n",
      " [5]]\n"
     ]
    }
   ],
   "source": [
    "# 1.11 Transposing a Vector or Matrix\n",
    "matrix = np.array([[1, 2, 3],\n",
    "                  [4, 5, 6],\n",
    "                [7, 8, 9]])\n",
    "print(matrix.T)\n",
    "print(np.array([1,2,3,4,5]).T)\n",
    "print(np.array([[1,2,3,4,5]]).T)"
   ]
  },
  {
   "cell_type": "code",
   "execution_count": 3,
   "id": "52e0977f",
   "metadata": {},
   "outputs": [
    {
     "name": "stdout",
     "output_type": "stream",
     "text": [
      "[1 2 3 4 5 6 7 8 9]\n",
      "[[1 2 3 4 5 6 7 8 9]]\n",
      "[1 2 3 4 5 6 7 8 9]\n",
      "[11 12 13 14 15 16 17 18]\n"
     ]
    }
   ],
   "source": [
    "# 1.12 Flattening a Matrix\n",
    "matrix = np.array([[1, 2, 3],\n",
    "                  [4, 5, 6],\n",
    "                [7, 8, 9]])\n",
    "\n",
    "print(matrix.flatten())\n",
    "print(matrix.reshape(1,-1))\n",
    "print(matrix.ravel())\n",
    "matrix_a = np.array([[11, 12],\n",
    "                     [13, 14]])\n",
    "\n",
    "matrix_b = np.array([[15, 16],\n",
    "                     [17, 18]])\n",
    "# to creat a list of matrix , matrix's dimension should be the same\n",
    "matrix_list = [matrix_a , matrix_b]\n",
    "print(np.ravel(matrix_list))"
   ]
  },
  {
   "cell_type": "code",
   "execution_count": 6,
   "id": "beeadf65",
   "metadata": {},
   "outputs": [
    {
     "name": "stdout",
     "output_type": "stream",
     "text": [
      "2\n"
     ]
    }
   ],
   "source": [
    "# 1.13 Finding the Rank of a Matrix\n",
    "matrix = np.array([[1, 1, 1],\n",
    "                  [1, 1, 10],\n",
    "                [1, 1, 15]])\n",
    "print(np.linalg.matrix_rank(matrix))"
   ]
  },
  {
   "cell_type": "code",
   "execution_count": 7,
   "id": "51f61ea7",
   "metadata": {},
   "outputs": [
    {
     "name": "stdout",
     "output_type": "stream",
     "text": [
      "[1 5 9]\n",
      "[2 6]\n",
      "[4 8]\n",
      "[12]\n"
     ]
    }
   ],
   "source": [
    "# 1.14 Getting the Diagonal of a Matrix\n",
    "matrix = np.array([[1, 2, 3],\n",
    "                  [4, 5, 6],\n",
    "                [7, 8, 9]])\n",
    "\n",
    "print(matrix.diagonal())\n",
    "print(matrix.diagonal(offset=1))\n",
    "print(matrix.diagonal(offset=-1))\n",
    "# matrix a initialized above\n",
    "print(matrix_a.diagonal(offset=1))"
   ]
  },
  {
   "cell_type": "code",
   "execution_count": 8,
   "id": "4eeb5720",
   "metadata": {},
   "outputs": [
    {
     "name": "stdout",
     "output_type": "stream",
     "text": [
      "15\n",
      "15\n",
      "[12]\n"
     ]
    }
   ],
   "source": [
    "# 1.15 Calculating the Trace of a Matrix\n",
    "matrix = np.array([[1, 2, 3],\n",
    "                  [4, 5, 6],\n",
    "                [7, 8, 9]])\n",
    "\n",
    "print(matrix.trace())\n",
    "print(sum(matrix.diagonal()))\n",
    "print(sum(matrix[: , :1 ]))"
   ]
  },
  {
   "cell_type": "code",
   "execution_count": null,
   "id": "d605453c",
   "metadata": {},
   "outputs": [
    {
     "name": "stdout",
     "output_type": "stream",
     "text": [
      "32\n",
      "32\n",
      "[[369 392]\n",
      " [433 460]]\n"
     ]
    }
   ],
   "source": [
    "# 1.16 Calculating Dot Products\n",
    "vector_a = np.array([1,2,3])\n",
    "vector_b = np.array([4,5,6])\n",
    "print(np.dot(vector_a,vector_b))\n",
    "print(vector_a @ vector_b)"
   ]
  },
  {
   "cell_type": "code",
   "execution_count": 14,
   "id": "2dd0113c",
   "metadata": {},
   "outputs": [
    {
     "name": "stdout",
     "output_type": "stream",
     "text": [
      "[[ 2  4  2]\n",
      " [ 2  4  2]\n",
      " [ 2  4 10]] \n",
      "\n",
      "[[ 0 -2  0]\n",
      " [ 0 -2  0]\n",
      " [ 0 -2 -6]] \n",
      "\n",
      "[[ 2  4  2]\n",
      " [ 2  4  2]\n",
      " [ 2  4 10]] \n",
      "\n",
      "[[ 1  3  1]\n",
      " [ 1  3  1]\n",
      " [ 1  3 16]] \n",
      "\n",
      "[[ 1  9  1]\n",
      " [ 1  9  1]\n",
      " [ 1  9 64]]\n"
     ]
    }
   ],
   "source": [
    "# 1.17 Adding and Subtracting Matrices\n",
    "\n",
    "matrix_a = np.array([[1,1,1],\n",
    "                    [1,1,1],\n",
    "                    [1,1,2]])\n",
    "\n",
    "matrix_b = np.array([[1, 3, 1],\n",
    "                    [1, 3, 1],\n",
    "                    [1, 3, 8]])\n",
    "\n",
    "print(np.add(matrix_a , matrix_b) , \"\\n\")\n",
    "print(np.subtract(matrix_a,matrix_b) , \"\\n\")\n",
    "print(matrix_a + matrix_b , \"\\n\")\n",
    "print(matrix_a * matrix_b ,\"\\n\")\n",
    "print(matrix_b ** 2)\n"
   ]
  },
  {
   "cell_type": "code",
   "execution_count": 17,
   "id": "f684cfd8",
   "metadata": {},
   "outputs": [
    {
     "name": "stdout",
     "output_type": "stream",
     "text": [
      "[[2 5]\n",
      " [3 7]] \n",
      "\n",
      "[[2 5]\n",
      " [3 7]] \n",
      "\n",
      "[[1 3]\n",
      " [1 4]]\n"
     ]
    }
   ],
   "source": [
    "# 1.18 Multiplying Matrices\n",
    "matrix_a = np.array([[1, 1],\n",
    "                    [1, 2]])\n",
    "\n",
    "matrix_b = np.array([[1, 3],\n",
    "                    [1, 2]])\n",
    "\n",
    "print(np.dot(matrix_a, matrix_b),\"\\n\")\n",
    "print(matrix_a @ matrix_b , \"\\n\")\n",
    "print(matrix_a * matrix_b)"
   ]
  },
  {
   "cell_type": "code",
   "execution_count": 20,
   "id": "7b6cdbe4",
   "metadata": {},
   "outputs": [
    {
     "name": "stdout",
     "output_type": "stream",
     "text": [
      "[[-1.66666667  1.33333333]\n",
      " [ 0.66666667 -0.33333333]] \n",
      "\n",
      "[[1. 0.]\n",
      " [0. 1.]]\n"
     ]
    }
   ],
   "source": [
    "# 1.19 Inverting a Matrix\n",
    "\n",
    "matrix = np.array([[1, 4],\n",
    "                   [2, 5]])\n",
    "\n",
    "print(np.linalg.inv(matrix) , \"\\n\")\n",
    "print(matrix @ np.linalg.inv(matrix))"
   ]
  },
  {
   "cell_type": "code",
   "execution_count": 34,
   "id": "cc907c98",
   "metadata": {},
   "outputs": [
    {
     "name": "stdout",
     "output_type": "stream",
     "text": [
      "[0.5488135  0.71518937 0.60276338]\n",
      "[ 4  8 10 19  5]\n",
      "[-0.29139398 -0.13309028 -0.1730696 ]\n",
      "[ 1.46416405 -0.08013416 -0.4356214 ]\n",
      "[0.83607876 0.33739616 0.64817187]\n"
     ]
    }
   ],
   "source": [
    "# 1.20 Generating Random Values\n",
    "# this line repeat a set of generated random number\n",
    "np.random.seed(0)\n",
    "\n",
    "print(np.random.random(3))\n",
    "print(np.random.randint(1,20,5))\n",
    "print(np.random.normal(0 , 1 ,3))\n",
    "print(np.random.logistic(0 , 1 ,3))\n",
    "print(np.random.uniform(0 , 1 ,3))"
   ]
  },
  {
   "cell_type": "code",
   "execution_count": null,
   "id": "b0e7bc4b",
   "metadata": {},
   "outputs": [],
   "source": []
  },
  {
   "cell_type": "code",
   "execution_count": null,
   "id": "51591267",
   "metadata": {},
   "outputs": [],
   "source": []
  }
 ],
 "metadata": {
  "kernelspec": {
   "display_name": "myenv",
   "language": "python",
   "name": "python3"
  },
  "language_info": {
   "codemirror_mode": {
    "name": "ipython",
    "version": 3
   },
   "file_extension": ".py",
   "mimetype": "text/x-python",
   "name": "python",
   "nbconvert_exporter": "python",
   "pygments_lexer": "ipython3",
   "version": "3.12.3"
  }
 },
 "nbformat": 4,
 "nbformat_minor": 5
}
