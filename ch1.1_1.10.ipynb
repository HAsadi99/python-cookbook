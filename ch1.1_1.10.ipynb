{
 "cells": [
  {
   "cell_type": "code",
   "execution_count": 7,
   "id": "cecb9599",
   "metadata": {},
   "outputs": [
    {
     "name": "stdout",
     "output_type": "stream",
     "text": [
      "[1 2 3]\n",
      "[[4]\n",
      " [5]\n",
      " [5]]\n"
     ]
    }
   ],
   "source": [
    "# 1.1 Creating a Vector\n",
    "import numpy as np\n",
    "\n",
    "vector_row = np.array([1,2,3])\n",
    "\n",
    "vector_column = np.array([[4],\n",
    "                         [5],\n",
    "                         [5]])\n",
    "\n",
    "print(vector_row)\n",
    "print(vector_column)"
   ]
  },
  {
   "cell_type": "code",
   "execution_count": 10,
   "id": "27127fb6",
   "metadata": {},
   "outputs": [
    {
     "name": "stdout",
     "output_type": "stream",
     "text": [
      "[[1 2]\n",
      " [3 4]\n",
      " [5 6]]\n"
     ]
    }
   ],
   "source": [
    "# 1.2 Creating a Matrix\n",
    "\n",
    "matrix = np.array([[1, 2],\n",
    "                   [3, 4],\n",
    "                   [5, 6]])\n",
    "print(matrix)\n"
   ]
  },
  {
   "cell_type": "code",
   "execution_count": 11,
   "id": "6c333b65",
   "metadata": {},
   "outputs": [
    {
     "name": "stdout",
     "output_type": "stream",
     "text": [
      "[[0 0]\n",
      " [1 0]\n",
      " [0 2]]\n",
      "<Compressed Sparse Row sparse matrix of dtype 'int64'\n",
      "\twith 2 stored elements and shape (3, 2)>\n",
      "  Coords\tValues\n",
      "  (1, 0)\t1\n",
      "  (2, 1)\t2\n"
     ]
    }
   ],
   "source": [
    "# 1.3 Creating a Sparse Matrix\n",
    "from scipy import sparse\n",
    " \n",
    "matrix = np.array([[0, 0],\n",
    "                    [1, 0],\n",
    "                    [0, 2]])\n",
    "\n",
    "print(matrix)\n",
    "\n",
    "matrix_sparse = sparse.csr_matrix(matrix)\n",
    "print(matrix_sparse)"
   ]
  },
  {
   "cell_type": "code",
   "execution_count": 13,
   "id": "e05656a8",
   "metadata": {},
   "outputs": [
    {
     "name": "stdout",
     "output_type": "stream",
     "text": [
      "<Compressed Sparse Row sparse matrix of dtype 'int64'\n",
      "\twith 2 stored elements and shape (3, 10)>\n",
      "  Coords\tValues\n",
      "  (1, 1)\t1\n",
      "  (2, 0)\t3\n"
     ]
    }
   ],
   "source": [
    "large_matrix = np.array([[0, 0, 0, 0, 0, 0, 0, 0, 0, 0],\n",
    "                         [0, 1, 0, 0, 0, 0, 0, 0, 0, 0],\n",
    "                         [3, 0, 0, 0, 0, 0, 0, 0, 0, 0]])\n",
    "\n",
    "print(sparse.csr_matrix(large_matrix))"
   ]
  },
  {
   "cell_type": "code",
   "execution_count": 25,
   "id": "b805d94e",
   "metadata": {},
   "outputs": [
    {
     "name": "stdout",
     "output_type": "stream",
     "text": [
      "[[0. 0.]\n",
      " [0. 0.]] \n",
      "\n",
      " [0. 0. 0. 0. 0.] \n",
      "\n",
      " [[4 4 4]\n",
      " [4 4 4]\n",
      " [4 4 4]]\n"
     ]
    }
   ],
   "source": [
    "# 1.4 Preallocating Numpy Arrays\n",
    "\n",
    "vector = np.zeros(shape=(2,2))\n",
    "vector2 = np.zeros(shape=5)\n",
    "vector3 = np.full(shape=(3,3) , fill_value=4)\n",
    "\n",
    "print(vector,\"\\n\\n\",vector2 , \"\\n\\n\" , vector3)"
   ]
  },
  {
   "cell_type": "code",
   "execution_count": 49,
   "id": "15212a0e",
   "metadata": {},
   "outputs": [
    {
     "name": "stdout",
     "output_type": "stream",
     "text": [
      "4\n",
      "8\n",
      "[1 2 3 4 5 6]\n",
      "[1 2 3]\n",
      "[4 5 6]\n",
      "6\n",
      "5\n",
      "[6 5 4 3 2 1]\n",
      "[1 3 5]\n",
      "------\n",
      " [[1 2 3]\n",
      " [4 5 6]]\n",
      "------\n",
      " [[2]\n",
      " [5]\n",
      " [8]]\n"
     ]
    }
   ],
   "source": [
    "# 1.5 Selecting Elements\n",
    "\n",
    "vector = np.array([1, 2, 3, 4, 5, 6])\n",
    "matrix = np.array([[1, 2, 3],\n",
    "                   [4, 5, 6],\n",
    "                   [7, 8, 9]])\n",
    "print(vector[3])\n",
    "print(matrix[2,1])\n",
    "print(vector[:])\n",
    "print(vector[:3])\n",
    "print(vector[3:])\n",
    "print(vector[-1])\n",
    "print(vector[-2])\n",
    "print(vector[::-1])\n",
    "print(vector[::2])\n",
    "print(\"------\\n\",matrix[:2,:])\n",
    "print(\"------\\n\",matrix[: ,1:2])"
   ]
  },
  {
   "cell_type": "code",
   "execution_count": 59,
   "id": "cc5e7516",
   "metadata": {},
   "outputs": [
    {
     "name": "stdout",
     "output_type": "stream",
     "text": [
      "(3, 4)\n",
      "12\n",
      "2\n"
     ]
    }
   ],
   "source": [
    "# 1.6 Describing a Matrix\n",
    "matrix = np.array([[1,2,3,4],\n",
    "                  [5,6,7,8],\n",
    "                  [9,10,11,12]])\n",
    "\n",
    "print(matrix.shape)\n",
    "print(matrix.size)\n",
    "print(matrix.ndim)"
   ]
  },
  {
   "cell_type": "code",
   "execution_count": 62,
   "id": "7c17d7ab",
   "metadata": {},
   "outputs": [
    {
     "name": "stdout",
     "output_type": "stream",
     "text": [
      "[[101 102 103]\n",
      " [104 105 106]\n",
      " [107 108 109]]\n",
      "---------------\n",
      "[[201 202 203]\n",
      " [204 205 206]\n",
      " [207 208 209]]\n"
     ]
    }
   ],
   "source": [
    "# 1.7 Applying Functions over Each Element\n",
    "\n",
    "matrix = np.array([[1, 2, 3],\n",
    "                   [4, 5, 6],\n",
    "                   [7, 8, 9]])\n",
    "add_100 = lambda i: i+100\n",
    "\n",
    "vectorize_add100 = np.vectorize(add_100)\n",
    "print(vectorize_add100(matrix))\n",
    "print(\"---------------\")\n",
    "print(matrix + 200)"
   ]
  },
  {
   "cell_type": "code",
   "execution_count": 66,
   "id": "da5d3b1b",
   "metadata": {},
   "outputs": [
    {
     "name": "stdout",
     "output_type": "stream",
     "text": [
      "9\n",
      "1\n",
      "[7 8 9]\n",
      "[3 6 9]\n"
     ]
    }
   ],
   "source": [
    "# 1.8 Finding the Maximum and Minimum Values\n",
    "matrix = np.array([[1, 2, 3],\n",
    "                   [4, 5, 6],\n",
    "                   [7, 8, 9]])\n",
    "\n",
    "print(np.max(matrix))\n",
    "print(np.min(matrix))\n",
    "print(np.max(matrix, axis=0))\n",
    "print(np.max(matrix , axis=1))\n"
   ]
  },
  {
   "cell_type": "code",
   "execution_count": 68,
   "id": "5b1b3822",
   "metadata": {},
   "outputs": [
    {
     "name": "stdout",
     "output_type": "stream",
     "text": [
      "5.0\n",
      "6.666666666666667\n",
      "2.581988897471611\n",
      "[4. 5. 6.]\n"
     ]
    }
   ],
   "source": [
    "# 1.9 Calculating the Average, Variance, and Standard Deviation\n",
    "matrix = np.array([[1, 2, 3],\n",
    "                   [4, 5, 6],\n",
    "                   [7, 8, 9]])\n",
    "print(np.mean(matrix))\n",
    "print(np.var(matrix))\n",
    "print(np.std(matrix))\n",
    "print(np.mean(matrix ,  axis=0))"
   ]
  },
  {
   "cell_type": "code",
   "execution_count": 2,
   "id": "e25f60ef",
   "metadata": {},
   "outputs": [
    {
     "name": "stdout",
     "output_type": "stream",
     "text": [
      "[[ 1  2  3  4  5  6]\n",
      " [ 7  8  9 10 11 12]] \n",
      "\n",
      "[[ 1  2  3  4  5  6  7  8  9 10 11 12]] \n",
      "\n",
      "[[ 1  2  3  4]\n",
      " [ 5  6  7  8]\n",
      " [ 9 10 11 12]] \n",
      "\n",
      "[[ 1  2]\n",
      " [ 3  4]\n",
      " [ 5  6]\n",
      " [ 7  8]\n",
      " [ 9 10]\n",
      " [11 12]] \n",
      "\n",
      "[[ 1  2  3  4  5  6  7  8  9 10 11 12]] \n",
      "\n",
      "[[ 1  2  3  4  5  6]\n",
      " [ 7  8  9 10 11 12]] \n",
      "\n",
      "[ 1  2  3  4  5  6  7  8  9 10 11 12]\n"
     ]
    }
   ],
   "source": [
    "# 1.10 Reshaping Arrays\n",
    "import numpy as np\n",
    "matrix = np.array([[1, 2, 3],\n",
    "                   [4, 5, 6],\n",
    "                   [7, 8, 9],\n",
    "                   [10, 11, 12]])\n",
    "print(matrix.reshape(2,6) ,\"\\n\")\n",
    "print(matrix.reshape(1,12),\"\\n\")\n",
    "print(matrix.reshape(3,4),\"\\n\")\n",
    "print(matrix.reshape(6 , -1),\"\\n\")\n",
    "print(matrix.reshape(1 , -1),\"\\n\")\n",
    "print(matrix.reshape(-1 , 6),\"\\n\")\n",
    "print(matrix.reshape(12))"
   ]
  },
  {
   "cell_type": "code",
   "execution_count": null,
   "id": "dee04b69",
   "metadata": {},
   "outputs": [],
   "source": []
  }
 ],
 "metadata": {
  "kernelspec": {
   "display_name": "myenv",
   "language": "python",
   "name": "python3"
  },
  "language_info": {
   "codemirror_mode": {
    "name": "ipython",
    "version": 3
   },
   "file_extension": ".py",
   "mimetype": "text/x-python",
   "name": "python",
   "nbconvert_exporter": "python",
   "pygments_lexer": "ipython3",
   "version": "3.12.3"
  }
 },
 "nbformat": 4,
 "nbformat_minor": 5
}
