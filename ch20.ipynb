{
 "cells": [
  {
   "cell_type": "code",
   "execution_count": 40,
   "id": "4a7139c3",
   "metadata": {},
   "outputs": [],
   "source": [
    "# Chapter 20. Tensors with PyTorch"
   ]
  },
  {
   "cell_type": "code",
   "execution_count": 41,
   "id": "9cdd1a48",
   "metadata": {},
   "outputs": [],
   "source": [
    "# 20.1 Creating a Tensor\n",
    "\n",
    "import torch\n",
    "import numpy as np\n",
    "\n",
    "# create a vector as a row\n",
    "tensor_row = torch.tensor([1, 2, 3])\n",
    "\n",
    "# create a vector as a column\n",
    "tensor_column = torch.tensor([\n",
    "    [1],\n",
    "    [2],\n",
    "    [3]\n",
    "])"
   ]
  },
  {
   "cell_type": "code",
   "execution_count": 42,
   "id": "03adf866",
   "metadata": {},
   "outputs": [],
   "source": [
    "# 20.2 Creating a Tensor from NumPy\n",
    "\n",
    "vector_row = np.array([1, 2, 3])\n",
    "# Create a tensor from a NumPy array\n",
    "tensor_row = torch.from_numpy(vector_row)"
   ]
  },
  {
   "cell_type": "code",
   "execution_count": 43,
   "id": "700498ff",
   "metadata": {},
   "outputs": [
    {
     "name": "stdout",
     "output_type": "stream",
     "text": [
      "<class 'torch.Tensor'>\n",
      "<class 'torch.Tensor'>\n"
     ]
    }
   ],
   "source": [
    "# 20.3 Creating a Sparse Tensor\n",
    "\n",
    "# Create a tensor\n",
    "tensor = torch.tensor([\n",
    "                [0, 0],\n",
    "                [0, 1],\n",
    "                [3, 0]])\n",
    "\n",
    "sparse_tensor = tensor.to_sparse()\n",
    "\n",
    "print(type(tensor))\n",
    "print(type(sparse_tensor))"
   ]
  },
  {
   "cell_type": "code",
   "execution_count": 44,
   "id": "5b01fded",
   "metadata": {},
   "outputs": [],
   "source": [
    "# 20.4 Selecting Elements in a Tensor\n",
    "\n",
    "# Create vector tensor\n",
    "vector = torch.tensor([1, 2, 3, 4, 5, 6])\n",
    "\n",
    "matrix = torch.tensor([\n",
    "[1, 2, 3],\n",
    "[4, 5, 6],\n",
    "[7, 8, 9]])\n"
   ]
  },
  {
   "cell_type": "code",
   "execution_count": 45,
   "id": "05cc1787",
   "metadata": {},
   "outputs": [
    {
     "name": "stdout",
     "output_type": "stream",
     "text": [
      "tensor(3)\n",
      "tensor(6)\n",
      "tensor([1, 2, 3, 4, 5, 6])\n",
      "tensor([1, 2, 3])\n",
      "tensor([4, 5, 6])\n",
      "tensor(6)\n",
      "tensor([[1, 2, 3],\n",
      "        [4, 5, 6]])\n",
      "tensor([[2],\n",
      "        [5],\n",
      "        [8]])\n"
     ]
    }
   ],
   "source": [
    "# Select third element of vector\n",
    "print(vector[2])\n",
    "print(matrix[1,-1])\n",
    "print(vector[:])\n",
    "print(vector[:3])\n",
    "print(vector[3:])\n",
    "print(vector[-1])\n",
    "print(matrix[:2 , :])\n",
    "print(matrix[:,1:2])"
   ]
  },
  {
   "cell_type": "code",
   "execution_count": 46,
   "id": "f8d4a1fa",
   "metadata": {},
   "outputs": [
    {
     "ename": "ValueError",
     "evalue": "step must be greater than zero",
     "output_type": "error",
     "traceback": [
      "\u001b[0;31m---------------------------------------------------------------------------\u001b[0m",
      "\u001b[0;31mValueError\u001b[0m                                Traceback (most recent call last)",
      "Cell \u001b[0;32mIn[46], line 2\u001b[0m\n\u001b[1;32m      1\u001b[0m \u001b[38;5;66;03m# Reverse the vector\u001b[39;00m\n\u001b[0;32m----> 2\u001b[0m \u001b[43mvector\u001b[49m\u001b[43m[\u001b[49m\u001b[43m:\u001b[49m\u001b[43m:\u001b[49m\u001b[38;5;241;43m-\u001b[39;49m\u001b[38;5;241;43m1\u001b[39;49m\u001b[43m]\u001b[49m\n",
      "\u001b[0;31mValueError\u001b[0m: step must be greater than zero"
     ]
    }
   ],
   "source": [
    "# Reverse the vector\n",
    "vector[::-1]"
   ]
  },
  {
   "cell_type": "code",
   "execution_count": null,
   "id": "36680ffb",
   "metadata": {},
   "outputs": [],
   "source": [
    "# Reverse the vector\n",
    "vector.flip(dims=(-1,))"
   ]
  },
  {
   "cell_type": "code",
   "execution_count": 47,
   "id": "6c5db170",
   "metadata": {},
   "outputs": [
    {
     "data": {
      "text/plain": [
       "torch.Size([2, 3])"
      ]
     },
     "execution_count": 47,
     "metadata": {},
     "output_type": "execute_result"
    }
   ],
   "source": [
    "# 20.5 Describing a Tensor\n",
    "import torch\n",
    "\n",
    "# Create a tensor\n",
    "tensor = torch.tensor([[1,2,3], [1,2,3]])\n",
    "\n",
    "tensor.shape"
   ]
  },
  {
   "cell_type": "code",
   "execution_count": 48,
   "id": "13df56df",
   "metadata": {},
   "outputs": [
    {
     "data": {
      "text/plain": [
       "torch.int64"
      ]
     },
     "execution_count": 48,
     "metadata": {},
     "output_type": "execute_result"
    }
   ],
   "source": [
    "# Get the data type of items in the tensor\n",
    "tensor.dtype"
   ]
  },
  {
   "cell_type": "code",
   "execution_count": 49,
   "id": "25209e27",
   "metadata": {},
   "outputs": [
    {
     "data": {
      "text/plain": [
       "torch.strided"
      ]
     },
     "execution_count": 49,
     "metadata": {},
     "output_type": "execute_result"
    }
   ],
   "source": [
    "# Get the layout of the tensor\n",
    "tensor.layout"
   ]
  },
  {
   "cell_type": "code",
   "execution_count": 50,
   "id": "2577b1ec",
   "metadata": {},
   "outputs": [
    {
     "data": {
      "text/plain": [
       "device(type='cpu')"
      ]
     },
     "execution_count": 50,
     "metadata": {},
     "output_type": "execute_result"
    }
   ],
   "source": [
    "# Get the device being used by the tensor\n",
    "tensor.device"
   ]
  },
  {
   "cell_type": "code",
   "execution_count": 51,
   "id": "f14d37b2",
   "metadata": {},
   "outputs": [
    {
     "data": {
      "text/plain": [
       "tensor([100, 200, 300])"
      ]
     },
     "execution_count": 51,
     "metadata": {},
     "output_type": "execute_result"
    }
   ],
   "source": [
    "# 20.6 Applying Operations to Elements\n",
    "\n",
    "# Create a tensor\n",
    "tensor = torch.tensor([1, 2, 3])\n",
    "\n",
    "tensor * 100"
   ]
  },
  {
   "cell_type": "code",
   "execution_count": 52,
   "id": "81dceb41",
   "metadata": {},
   "outputs": [
    {
     "name": "stdout",
     "output_type": "stream",
     "text": [
      "tensor(3)\n",
      "tensor(1)\n",
      "tensor(5)\n"
     ]
    }
   ],
   "source": [
    "# 20.7 Finding the Maximum and Minimum Values\n",
    "\n",
    "# Create a tensor\n",
    "torch.tensor([1,2,3])\n",
    "\n",
    "print(tensor.max())\n",
    "\n",
    "print(tensor.min())\n",
    "\n",
    "# Create a multidimensional tensor\n",
    "tensor = torch.tensor([[1,2,3],[1,2,5]])\n",
    "\n",
    "print(tensor.max())"
   ]
  },
  {
   "cell_type": "code",
   "execution_count": 56,
   "id": "e51b514f",
   "metadata": {},
   "outputs": [
    {
     "data": {
      "text/plain": [
       "tensor([[ 1,  2,  3,  4,  5,  6],\n",
       "        [ 7,  8,  9, 10, 11, 12]])"
      ]
     },
     "execution_count": 56,
     "metadata": {},
     "output_type": "execute_result"
    }
   ],
   "source": [
    "# 20.8 Reshaping Tensors\n",
    "\n",
    "# Create 4x3 tensor\n",
    "tensor = torch.tensor([[1, 2, 3],\n",
    "                       [4, 5, 6],\n",
    "                       [7, 8, 9],\n",
    "                       [10, 11, 12]])\n",
    "\n",
    "tensor.reshape(2, 6)"
   ]
  },
  {
   "cell_type": "code",
   "execution_count": 57,
   "id": "0c70e716",
   "metadata": {},
   "outputs": [
    {
     "data": {
      "text/plain": [
       "tensor([[[1],\n",
       "         [2],\n",
       "         [3]]])"
      ]
     },
     "execution_count": 57,
     "metadata": {},
     "output_type": "execute_result"
    }
   ],
   "source": [
    "# 20.9 Transposing a Tensor\n",
    "\n",
    "# Create a two-dimensional tensor\n",
    "tensor = torch.tensor([[[1,2,3]]])\n",
    "\n",
    "# transpose it\n",
    "tensor.mT"
   ]
  },
  {
   "cell_type": "code",
   "execution_count": 58,
   "id": "094705df",
   "metadata": {},
   "outputs": [
    {
     "data": {
      "text/plain": [
       "tensor([[[1]],\n",
       "\n",
       "        [[2]],\n",
       "\n",
       "        [[3]]])"
      ]
     },
     "execution_count": 58,
     "metadata": {},
     "output_type": "execute_result"
    }
   ],
   "source": [
    "tensor.permute(*torch.arange(tensor.ndim -1, -1, -1))"
   ]
  },
  {
   "cell_type": "code",
   "execution_count": 59,
   "id": "6b8a1730",
   "metadata": {},
   "outputs": [
    {
     "data": {
      "text/plain": [
       "tensor([1, 2, 3, 4, 5, 6, 7, 8, 9])"
      ]
     },
     "execution_count": 59,
     "metadata": {},
     "output_type": "execute_result"
    }
   ],
   "source": [
    "# 20.10 Flattening a Tensor\n",
    "\n",
    "# Create tensor\n",
    "tensor = torch.tensor([[1, 2, 3],\n",
    "                       [4, 5, 6],\n",
    "                       [7, 8, 9]])\n",
    "\n",
    "# flatten tensor\n",
    "tensor.flatten()"
   ]
  },
  {
   "cell_type": "code",
   "execution_count": 60,
   "id": "9f2f1ca3",
   "metadata": {},
   "outputs": [
    {
     "data": {
      "text/plain": [
       "tensor(32)"
      ]
     },
     "execution_count": 60,
     "metadata": {},
     "output_type": "execute_result"
    }
   ],
   "source": [
    "# 20.11 Calculating Dot Products\n",
    "\n",
    "# Create one tensor\n",
    "tensor_1 = torch.tensor([1, 2, 3])\n",
    "\n",
    "# Create second tensor\n",
    "tensor_2 = torch.tensor([4, 5, 6])\n",
    "\n",
    "tensor_1.dot(tensor_2)"
   ]
  },
  {
   "cell_type": "code",
   "execution_count": 61,
   "id": "df6a0f8c",
   "metadata": {},
   "outputs": [
    {
     "data": {
      "text/plain": [
       "tensor([ 4, 10, 18])"
      ]
     },
     "execution_count": 61,
     "metadata": {},
     "output_type": "execute_result"
    }
   ],
   "source": [
    "# 20.12 Multiplying Tensors\n",
    "\n",
    "# Create one tensor\n",
    "tensor_1 = torch.tensor([1, 2, 3])\n",
    "\n",
    "# Create second tensor\n",
    "tensor_2 = torch.tensor([4, 5, 6])\n",
    "\n",
    "tensor_1 * tensor_2"
   ]
  },
  {
   "cell_type": "code",
   "execution_count": 62,
   "id": "c7ae1c31",
   "metadata": {},
   "outputs": [
    {
     "data": {
      "text/plain": [
       "tensor([5, 7, 9])"
      ]
     },
     "execution_count": 62,
     "metadata": {},
     "output_type": "execute_result"
    }
   ],
   "source": [
    "tensor_1 + tensor_2"
   ]
  },
  {
   "cell_type": "code",
   "execution_count": 63,
   "id": "c32aa3b7",
   "metadata": {},
   "outputs": [
    {
     "data": {
      "text/plain": [
       "tensor([-3, -3, -3])"
      ]
     },
     "execution_count": 63,
     "metadata": {},
     "output_type": "execute_result"
    }
   ],
   "source": [
    "tensor_1 - tensor_2"
   ]
  },
  {
   "cell_type": "code",
   "execution_count": 64,
   "id": "c7b226a6",
   "metadata": {},
   "outputs": [
    {
     "data": {
      "text/plain": [
       "tensor([0.2500, 0.4000, 0.5000])"
      ]
     },
     "execution_count": 64,
     "metadata": {},
     "output_type": "execute_result"
    }
   ],
   "source": [
    "tensor_1 / tensor_2"
   ]
  }
 ],
 "metadata": {
  "kernelspec": {
   "display_name": "venv",
   "language": "python",
   "name": "python3"
  },
  "language_info": {
   "codemirror_mode": {
    "name": "ipython",
    "version": 3
   },
   "file_extension": ".py",
   "mimetype": "text/x-python",
   "name": "python",
   "nbconvert_exporter": "python",
   "pygments_lexer": "ipython3",
   "version": "3.10.18"
  }
 },
 "nbformat": 4,
 "nbformat_minor": 5
}
